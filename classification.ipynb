{
  "nbformat": 4,
  "nbformat_minor": 0,
  "metadata": {
    "colab": {
      "provenance": [],
      "collapsed_sections": [],
      "history_visible": true,
      "include_colab_link": true
    },
    "kernelspec": {
      "name": "python3",
      "display_name": "Python 3"
    },
    "accelerator": "GPU"
  },
  "cells": [
    {
      "cell_type": "markdown",
      "metadata": {
        "id": "view-in-github",
        "colab_type": "text"
      },
      "source": [
        "<a href=\"https://colab.research.google.com/github/Pravallika-Myneni/AI4good-2022/blob/main/classification.ipynb\" target=\"_parent\"><img src=\"https://colab.research.google.com/assets/colab-badge.svg\" alt=\"Open In Colab\"/></a>"
      ]
    },
    {
      "cell_type": "markdown",
      "metadata": {
        "id": "foX8NgJP-guo"
      },
      "source": [
        "# Classification:\n",
        "Would a customer of Health Insurance be interested in  Vehicle insurance or not"
      ]
    },
    {
      "cell_type": "markdown",
      "metadata": {
        "id": "5-IaKYjV-nvz"
      },
      "source": [
        "## Importing necessary libraries and datasets"
      ]
    },
    {
      "cell_type": "code",
      "metadata": {
        "id": "-7ZgkI1D9pvd"
      },
      "source": [
        "import numpy as np\n",
        "import pandas as pd\n",
        "import matplotlib.pyplot as plt"
      ],
      "execution_count": 1,
      "outputs": []
    },
    {
      "cell_type": "code",
      "metadata": {
        "id": "aRmzTpw4_A15"
      },
      "source": [
        "train_df = pd.read_csv(\"/content/income-mapped-zip-code.csv\", index_col=[0])"
      ],
      "execution_count": null,
      "outputs": []
    },
    {
      "cell_type": "markdown",
      "metadata": {
        "id": "Y5OvJVFaDOdl"
      },
      "source": [
        "Understanding the data by performing EDA"
      ]
    },
    {
      "cell_type": "code",
      "source": [
        "train_df.head(5)"
      ],
      "metadata": {
        "colab": {
          "base_uri": "https://localhost:8080/",
          "height": 374
        },
        "id": "7Gchrjg647bg",
        "outputId": "68bf58aa-bf25-4557-9c42-41146392797a"
      },
      "execution_count": 39,
      "outputs": [
        {
          "output_type": "execute_result",
          "data": {
            "text/plain": [
              "   Zipcode Median_Income Mean_Income Age Group Arrest Date  Arrest Key  \\\n",
              "0    10001         96787      166167       <18   3/24/2019   195084931   \n",
              "1    10001         96787      166167     25-44   7/11/2018   185049784   \n",
              "2    10001         96787      166167     25-44   2/11/2019   193435757   \n",
              "3    10001         96787      166167     25-44   2/10/2019   193411595   \n",
              "4    10001         96787      166167     18-24   4/30/2019   196623657   \n",
              "\n",
              "           Ofns Desc                                    Pd Desc  \\\n",
              "0            ROBBERY             ROBBERY,OPEN AREA UNCLASSIFIED   \n",
              "1  F.C.A. P.I.N.O.S.                 FUGITIVE,FROM OTHER STATES   \n",
              "2      GRAND LARCENY  LARCENY,GRAND FROM OPEN AREAS, UNATTENDED   \n",
              "3            FORGERY             FORGERY,ETC.,UNCLASSIFIED-FELO   \n",
              "4    DANGEROUS DRUGS                CONTROLLED SUBSTANCE,SALE 3   \n",
              "\n",
              "        Perp Race Perp Sex  Arrest Precinct    Lat    Lon           LatLon  \n",
              "0           BLACK        M               14  40.75 -73.99  (40.75, -73.99)  \n",
              "1           WHITE        F               14  40.75 -73.99  (40.75, -73.99)  \n",
              "2  WHITE HISPANIC        M               14  40.75 -73.99  (40.75, -73.99)  \n",
              "3           BLACK        M               14  40.75 -73.99  (40.75, -73.99)  \n",
              "4           BLACK        M               14  40.75 -73.99  (40.75, -73.99)  "
            ],
            "text/html": [
              "\n",
              "  <div id=\"df-df6827a9-a7af-4b8f-aab6-b68f28ea1124\">\n",
              "    <div class=\"colab-df-container\">\n",
              "      <div>\n",
              "<style scoped>\n",
              "    .dataframe tbody tr th:only-of-type {\n",
              "        vertical-align: middle;\n",
              "    }\n",
              "\n",
              "    .dataframe tbody tr th {\n",
              "        vertical-align: top;\n",
              "    }\n",
              "\n",
              "    .dataframe thead th {\n",
              "        text-align: right;\n",
              "    }\n",
              "</style>\n",
              "<table border=\"1\" class=\"dataframe\">\n",
              "  <thead>\n",
              "    <tr style=\"text-align: right;\">\n",
              "      <th></th>\n",
              "      <th>Zipcode</th>\n",
              "      <th>Median_Income</th>\n",
              "      <th>Mean_Income</th>\n",
              "      <th>Age Group</th>\n",
              "      <th>Arrest Date</th>\n",
              "      <th>Arrest Key</th>\n",
              "      <th>Ofns Desc</th>\n",
              "      <th>Pd Desc</th>\n",
              "      <th>Perp Race</th>\n",
              "      <th>Perp Sex</th>\n",
              "      <th>Arrest Precinct</th>\n",
              "      <th>Lat</th>\n",
              "      <th>Lon</th>\n",
              "      <th>LatLon</th>\n",
              "    </tr>\n",
              "  </thead>\n",
              "  <tbody>\n",
              "    <tr>\n",
              "      <th>0</th>\n",
              "      <td>10001</td>\n",
              "      <td>96787</td>\n",
              "      <td>166167</td>\n",
              "      <td>&lt;18</td>\n",
              "      <td>3/24/2019</td>\n",
              "      <td>195084931</td>\n",
              "      <td>ROBBERY</td>\n",
              "      <td>ROBBERY,OPEN AREA UNCLASSIFIED</td>\n",
              "      <td>BLACK</td>\n",
              "      <td>M</td>\n",
              "      <td>14</td>\n",
              "      <td>40.75</td>\n",
              "      <td>-73.99</td>\n",
              "      <td>(40.75, -73.99)</td>\n",
              "    </tr>\n",
              "    <tr>\n",
              "      <th>1</th>\n",
              "      <td>10001</td>\n",
              "      <td>96787</td>\n",
              "      <td>166167</td>\n",
              "      <td>25-44</td>\n",
              "      <td>7/11/2018</td>\n",
              "      <td>185049784</td>\n",
              "      <td>F.C.A. P.I.N.O.S.</td>\n",
              "      <td>FUGITIVE,FROM OTHER STATES</td>\n",
              "      <td>WHITE</td>\n",
              "      <td>F</td>\n",
              "      <td>14</td>\n",
              "      <td>40.75</td>\n",
              "      <td>-73.99</td>\n",
              "      <td>(40.75, -73.99)</td>\n",
              "    </tr>\n",
              "    <tr>\n",
              "      <th>2</th>\n",
              "      <td>10001</td>\n",
              "      <td>96787</td>\n",
              "      <td>166167</td>\n",
              "      <td>25-44</td>\n",
              "      <td>2/11/2019</td>\n",
              "      <td>193435757</td>\n",
              "      <td>GRAND LARCENY</td>\n",
              "      <td>LARCENY,GRAND FROM OPEN AREAS, UNATTENDED</td>\n",
              "      <td>WHITE HISPANIC</td>\n",
              "      <td>M</td>\n",
              "      <td>14</td>\n",
              "      <td>40.75</td>\n",
              "      <td>-73.99</td>\n",
              "      <td>(40.75, -73.99)</td>\n",
              "    </tr>\n",
              "    <tr>\n",
              "      <th>3</th>\n",
              "      <td>10001</td>\n",
              "      <td>96787</td>\n",
              "      <td>166167</td>\n",
              "      <td>25-44</td>\n",
              "      <td>2/10/2019</td>\n",
              "      <td>193411595</td>\n",
              "      <td>FORGERY</td>\n",
              "      <td>FORGERY,ETC.,UNCLASSIFIED-FELO</td>\n",
              "      <td>BLACK</td>\n",
              "      <td>M</td>\n",
              "      <td>14</td>\n",
              "      <td>40.75</td>\n",
              "      <td>-73.99</td>\n",
              "      <td>(40.75, -73.99)</td>\n",
              "    </tr>\n",
              "    <tr>\n",
              "      <th>4</th>\n",
              "      <td>10001</td>\n",
              "      <td>96787</td>\n",
              "      <td>166167</td>\n",
              "      <td>18-24</td>\n",
              "      <td>4/30/2019</td>\n",
              "      <td>196623657</td>\n",
              "      <td>DANGEROUS DRUGS</td>\n",
              "      <td>CONTROLLED SUBSTANCE,SALE 3</td>\n",
              "      <td>BLACK</td>\n",
              "      <td>M</td>\n",
              "      <td>14</td>\n",
              "      <td>40.75</td>\n",
              "      <td>-73.99</td>\n",
              "      <td>(40.75, -73.99)</td>\n",
              "    </tr>\n",
              "  </tbody>\n",
              "</table>\n",
              "</div>\n",
              "      <button class=\"colab-df-convert\" onclick=\"convertToInteractive('df-df6827a9-a7af-4b8f-aab6-b68f28ea1124')\"\n",
              "              title=\"Convert this dataframe to an interactive table.\"\n",
              "              style=\"display:none;\">\n",
              "        \n",
              "  <svg xmlns=\"http://www.w3.org/2000/svg\" height=\"24px\"viewBox=\"0 0 24 24\"\n",
              "       width=\"24px\">\n",
              "    <path d=\"M0 0h24v24H0V0z\" fill=\"none\"/>\n",
              "    <path d=\"M18.56 5.44l.94 2.06.94-2.06 2.06-.94-2.06-.94-.94-2.06-.94 2.06-2.06.94zm-11 1L8.5 8.5l.94-2.06 2.06-.94-2.06-.94L8.5 2.5l-.94 2.06-2.06.94zm10 10l.94 2.06.94-2.06 2.06-.94-2.06-.94-.94-2.06-.94 2.06-2.06.94z\"/><path d=\"M17.41 7.96l-1.37-1.37c-.4-.4-.92-.59-1.43-.59-.52 0-1.04.2-1.43.59L10.3 9.45l-7.72 7.72c-.78.78-.78 2.05 0 2.83L4 21.41c.39.39.9.59 1.41.59.51 0 1.02-.2 1.41-.59l7.78-7.78 2.81-2.81c.8-.78.8-2.07 0-2.86zM5.41 20L4 18.59l7.72-7.72 1.47 1.35L5.41 20z\"/>\n",
              "  </svg>\n",
              "      </button>\n",
              "      \n",
              "  <style>\n",
              "    .colab-df-container {\n",
              "      display:flex;\n",
              "      flex-wrap:wrap;\n",
              "      gap: 12px;\n",
              "    }\n",
              "\n",
              "    .colab-df-convert {\n",
              "      background-color: #E8F0FE;\n",
              "      border: none;\n",
              "      border-radius: 50%;\n",
              "      cursor: pointer;\n",
              "      display: none;\n",
              "      fill: #1967D2;\n",
              "      height: 32px;\n",
              "      padding: 0 0 0 0;\n",
              "      width: 32px;\n",
              "    }\n",
              "\n",
              "    .colab-df-convert:hover {\n",
              "      background-color: #E2EBFA;\n",
              "      box-shadow: 0px 1px 2px rgba(60, 64, 67, 0.3), 0px 1px 3px 1px rgba(60, 64, 67, 0.15);\n",
              "      fill: #174EA6;\n",
              "    }\n",
              "\n",
              "    [theme=dark] .colab-df-convert {\n",
              "      background-color: #3B4455;\n",
              "      fill: #D2E3FC;\n",
              "    }\n",
              "\n",
              "    [theme=dark] .colab-df-convert:hover {\n",
              "      background-color: #434B5C;\n",
              "      box-shadow: 0px 1px 3px 1px rgba(0, 0, 0, 0.15);\n",
              "      filter: drop-shadow(0px 1px 2px rgba(0, 0, 0, 0.3));\n",
              "      fill: #FFFFFF;\n",
              "    }\n",
              "  </style>\n",
              "\n",
              "      <script>\n",
              "        const buttonEl =\n",
              "          document.querySelector('#df-df6827a9-a7af-4b8f-aab6-b68f28ea1124 button.colab-df-convert');\n",
              "        buttonEl.style.display =\n",
              "          google.colab.kernel.accessAllowed ? 'block' : 'none';\n",
              "\n",
              "        async function convertToInteractive(key) {\n",
              "          const element = document.querySelector('#df-df6827a9-a7af-4b8f-aab6-b68f28ea1124');\n",
              "          const dataTable =\n",
              "            await google.colab.kernel.invokeFunction('convertToInteractive',\n",
              "                                                     [key], {});\n",
              "          if (!dataTable) return;\n",
              "\n",
              "          const docLinkHtml = 'Like what you see? Visit the ' +\n",
              "            '<a target=\"_blank\" href=https://colab.research.google.com/notebooks/data_table.ipynb>data table notebook</a>'\n",
              "            + ' to learn more about interactive tables.';\n",
              "          element.innerHTML = '';\n",
              "          dataTable['output_type'] = 'display_data';\n",
              "          await google.colab.output.renderOutput(dataTable, element);\n",
              "          const docLink = document.createElement('div');\n",
              "          docLink.innerHTML = docLinkHtml;\n",
              "          element.appendChild(docLink);\n",
              "        }\n",
              "      </script>\n",
              "    </div>\n",
              "  </div>\n",
              "  "
            ]
          },
          "metadata": {},
          "execution_count": 39
        }
      ]
    },
    {
      "cell_type": "code",
      "metadata": {
        "colab": {
          "base_uri": "https://localhost:8080/"
        },
        "id": "tvihcNXpDVFp",
        "outputId": "62085ff0-e48e-4f79-d1c2-c134eef66d34"
      },
      "source": [
        "print(train_df.columns)\n",
        "print(train_df.shape)\n"
      ],
      "execution_count": 40,
      "outputs": [
        {
          "output_type": "stream",
          "name": "stdout",
          "text": [
            "Index(['Zipcode', 'Median_Income', 'Mean_Income', 'Age Group', 'Arrest Date',\n",
            "       'Arrest Key', 'Ofns Desc', 'Pd Desc', 'Perp Race', 'Perp Sex',\n",
            "       'Arrest Precinct', 'Lat', 'Lon', 'LatLon'],\n",
            "      dtype='object')\n",
            "(593721, 14)\n"
          ]
        }
      ]
    },
    {
      "cell_type": "code",
      "metadata": {
        "colab": {
          "base_uri": "https://localhost:8080/"
        },
        "id": "XJO5HBUUD3Ls",
        "outputId": "3de29a30-4fbf-4226-f298-90501cd7818a"
      },
      "source": [
        "train_df.info()"
      ],
      "execution_count": 41,
      "outputs": [
        {
          "output_type": "stream",
          "name": "stdout",
          "text": [
            "<class 'pandas.core.frame.DataFrame'>\n",
            "Int64Index: 593721 entries, 0 to 593720\n",
            "Data columns (total 14 columns):\n",
            " #   Column           Non-Null Count   Dtype  \n",
            "---  ------           --------------   -----  \n",
            " 0   Zipcode          593721 non-null  int64  \n",
            " 1   Median_Income    593721 non-null  object \n",
            " 2   Mean_Income      593721 non-null  object \n",
            " 3   Age Group        593721 non-null  object \n",
            " 4   Arrest Date      593721 non-null  object \n",
            " 5   Arrest Key       593721 non-null  int64  \n",
            " 6   Ofns Desc        592619 non-null  object \n",
            " 7   Pd Desc          592619 non-null  object \n",
            " 8   Perp Race        593721 non-null  object \n",
            " 9   Perp Sex         593721 non-null  object \n",
            " 10  Arrest Precinct  593721 non-null  int64  \n",
            " 11  Lat              593721 non-null  float64\n",
            " 12  Lon              593721 non-null  float64\n",
            " 13  LatLon           593721 non-null  object \n",
            "dtypes: float64(2), int64(3), object(9)\n",
            "memory usage: 67.9+ MB\n"
          ]
        }
      ]
    },
    {
      "cell_type": "markdown",
      "metadata": {
        "id": "ahKcWt5TLDma"
      },
      "source": [
        "It seems there are no null objects"
      ]
    },
    {
      "cell_type": "markdown",
      "metadata": {
        "id": "PXczgRB_fe1A"
      },
      "source": [
        "## Dropping unwanted columns"
      ]
    },
    {
      "cell_type": "code",
      "source": [
        "train_df_ = train_df.drop(columns = ['Lat', 'Lon', \"LatLon\"]).copy()\n",
        "train_df_.info()"
      ],
      "metadata": {
        "colab": {
          "base_uri": "https://localhost:8080/"
        },
        "id": "PN2cELnG19r1",
        "outputId": "579656b5-2831-4538-bf47-a8603616a8c4"
      },
      "execution_count": 67,
      "outputs": [
        {
          "output_type": "stream",
          "name": "stdout",
          "text": [
            "<class 'pandas.core.frame.DataFrame'>\n",
            "Int64Index: 593721 entries, 0 to 593720\n",
            "Data columns (total 11 columns):\n",
            " #   Column           Non-Null Count   Dtype \n",
            "---  ------           --------------   ----- \n",
            " 0   Zipcode          593721 non-null  int64 \n",
            " 1   Median_Income    593721 non-null  object\n",
            " 2   Mean_Income      593721 non-null  object\n",
            " 3   Age Group        593721 non-null  object\n",
            " 4   Arrest Date      593721 non-null  object\n",
            " 5   Arrest Key       593721 non-null  int64 \n",
            " 6   Ofns Desc        592619 non-null  object\n",
            " 7   Pd Desc          592619 non-null  object\n",
            " 8   Perp Race        593721 non-null  object\n",
            " 9   Perp Sex         593721 non-null  object\n",
            " 10  Arrest Precinct  593721 non-null  int64 \n",
            "dtypes: int64(3), object(8)\n",
            "memory usage: 54.4+ MB\n"
          ]
        }
      ]
    },
    {
      "cell_type": "markdown",
      "source": [
        "### Categorical values"
      ],
      "metadata": {
        "id": "g2NegsUW2MhT"
      }
    },
    {
      "cell_type": "code",
      "metadata": {
        "id": "ZIqr_Dtign5w"
      },
      "source": [
        "train_df_[\"Zipcode\"]  = train_df_['Zipcode'].astype('category').cat.codes\n",
        "train_df_[\"Arrest Key\"]  = train_df_['Arrest Key'].astype('category').cat.codes\n",
        "train_df_[\"Arrest Precinct\"]  = train_df_['Arrest Precinct'].astype('category').cat.codes\n",
        "\n",
        "train_df_[\"Age Group\"]  = train_df_['Age Group'].astype('category').cat.codes\n",
        "train_df_[\"Arrest Date\"]  = train_df_['Arrest Date'].astype('category').cat.codes\n",
        "train_df_[\"Ofns Desc\"]  = train_df_['Ofns Desc'].astype('category').cat.codes\n",
        "train_df_[\"Pd Desc\"]  = train_df_['Pd Desc'].astype('category').cat.codes\n",
        "train_df_[\"Perp Race\"]  = train_df_['Perp Race'].astype('category').cat.codes\n",
        "train_df_[\"Perp Sex\"]  = train_df_['Perp Sex'].astype('category').cat.codes\n",
        "\n",
        "\n",
        "train_df_[\"Median_Income_int\"]  = train_df_['Median_Income'].str.extract(\"(\\d+)\")[0]\n",
        "train_df_[\"Mean_Income_int\"]  = train_df_['Mean_Income'].str.extract(\"(\\d+)\")[0]"
      ],
      "execution_count": 68,
      "outputs": []
    },
    {
      "cell_type": "code",
      "source": [
        "train_df_.nunique()/train_df_.shape[0]"
      ],
      "metadata": {
        "colab": {
          "base_uri": "https://localhost:8080/"
        },
        "id": "dG2yFCDS4UCa",
        "outputId": "113d2e0f-5061-4515-d2d1-03c4b6cd5989"
      },
      "execution_count": 69,
      "outputs": [
        {
          "output_type": "execute_result",
          "data": {
            "text/plain": [
              "Zipcode              0.000325\n",
              "Median_Income        0.000322\n",
              "Mean_Income          0.000322\n",
              "Age Group            0.000008\n",
              "Arrest Date          0.001846\n",
              "Arrest Key           1.000000\n",
              "Ofns Desc            0.000138\n",
              "Pd Desc              0.000645\n",
              "Perp Race            0.000012\n",
              "Perp Sex             0.000003\n",
              "Arrest Precinct      0.000130\n",
              "Median_Income_int    0.000172\n",
              "Mean_Income_int      0.000172\n",
              "dtype: float64"
            ]
          },
          "metadata": {},
          "execution_count": 69
        }
      ]
    },
    {
      "cell_type": "code",
      "source": [
        "train_df_['Mean_Income_int'] = train_df_['Mean_Income_int'].astype(int)\n",
        "train_df_['Median_Income_int'] = train_df_['Median_Income_int'].astype(int)\n"
      ],
      "metadata": {
        "colab": {
          "base_uri": "https://localhost:8080/"
        },
        "id": "Dq0mgGlwEQFa",
        "outputId": "28240cef-586d-4343-c4c6-8b32757281e9"
      },
      "execution_count": 70,
      "outputs": [
        {
          "output_type": "stream",
          "name": "stderr",
          "text": [
            "/usr/local/lib/python3.7/dist-packages/ipykernel_launcher.py:2: SettingWithCopyWarning: \n",
            "A value is trying to be set on a copy of a slice from a DataFrame.\n",
            "Try using .loc[row_indexer,col_indexer] = value instead\n",
            "\n",
            "See the caveats in the documentation: https://pandas.pydata.org/pandas-docs/stable/user_guide/indexing.html#returning-a-view-versus-a-copy\n",
            "  \n",
            "/usr/local/lib/python3.7/dist-packages/ipykernel_launcher.py:3: SettingWithCopyWarning: \n",
            "A value is trying to be set on a copy of a slice from a DataFrame.\n",
            "Try using .loc[row_indexer,col_indexer] = value instead\n",
            "\n",
            "See the caveats in the documentation: https://pandas.pydata.org/pandas-docs/stable/user_guide/indexing.html#returning-a-view-versus-a-copy\n",
            "  This is separate from the ipykernel package so we can avoid doing imports until\n"
          ]
        }
      ]
    },
    {
      "cell_type": "code",
      "source": [
        "train_df_dr = train_df_.drop(columns=['Arrest Key', 'Median_Income', 'Mean_Income'])"
      ],
      "metadata": {
        "id": "zQhS4FSg6ErM"
      },
      "execution_count": 71,
      "outputs": []
    },
    {
      "cell_type": "code",
      "source": [
        "train_df_dr.dtypes"
      ],
      "metadata": {
        "colab": {
          "base_uri": "https://localhost:8080/"
        },
        "id": "CtoQv_B8AGjw",
        "outputId": "f9db66af-7478-4104-a1ce-db91276c7b96"
      },
      "execution_count": 72,
      "outputs": [
        {
          "output_type": "execute_result",
          "data": {
            "text/plain": [
              "Zipcode              int16\n",
              "Age Group             int8\n",
              "Arrest Date          int16\n",
              "Ofns Desc             int8\n",
              "Pd Desc              int16\n",
              "Perp Race             int8\n",
              "Perp Sex              int8\n",
              "Arrest Precinct       int8\n",
              "Median_Income_int    int64\n",
              "Mean_Income_int      int64\n",
              "dtype: object"
            ]
          },
          "metadata": {},
          "execution_count": 72
        }
      ]
    },
    {
      "cell_type": "code",
      "metadata": {
        "colab": {
          "base_uri": "https://localhost:8080/",
          "height": 660
        },
        "id": "uJgOYnBefQLg",
        "outputId": "72ff4ec0-8591-4b22-a72a-193036f00ae5"
      },
      "source": [
        "cor=train_df_dr.corr()\n",
        "lower_triangle_mask = np.triu(np.ones(cor.shape)).astype(np.bool)\n",
        "cor_mat_lower = cor.mask(lower_triangle_mask)\n",
        "plt.figure(figsize = (12,8))\n",
        "import seaborn as sns\n",
        "sns.heatmap(cor_mat_lower, annot=True, cmap='RdBu_r')"
      ],
      "execution_count": 74,
      "outputs": [
        {
          "output_type": "stream",
          "name": "stderr",
          "text": [
            "/usr/local/lib/python3.7/dist-packages/ipykernel_launcher.py:2: DeprecationWarning: `np.bool` is a deprecated alias for the builtin `bool`. To silence this warning, use `bool` by itself. Doing this will not modify any behavior and is safe. If you specifically wanted the numpy scalar type, use `np.bool_` here.\n",
            "Deprecated in NumPy 1.20; for more details and guidance: https://numpy.org/devdocs/release/1.20.0-notes.html#deprecations\n",
            "  \n"
          ]
        },
        {
          "output_type": "execute_result",
          "data": {
            "text/plain": [
              "<matplotlib.axes._subplots.AxesSubplot at 0x7f1015feaad0>"
            ]
          },
          "metadata": {},
          "execution_count": 74
        },
        {
          "output_type": "display_data",
          "data": {
            "text/plain": [
              "<Figure size 864x576 with 2 Axes>"
            ],
            "image/png": "[encoded data removed]"
          },
          "metadata": {
            "needs_background": "light"
          }
        }
      ]
    },
    {
      "cell_type": "code",
      "source": [
        "from tables import Column\n",
        "train_df_v = pd.read_csv('/content/income-mapped-zip-code-(1)-csv.csv', index_col = [0])\n",
        "train_df_2 = train_df_v.copy().drop(columns = ['Lat', 'Lon', \"LatLon\"])\n",
        "train_df_2.info()"
      ],
      "metadata": {
        "colab": {
          "base_uri": "https://localhost:8080/"
        },
        "id": "bfnZnwtqZ5G_",
        "outputId": "f9dd9446-38f8-4d59-fd05-52c66a50fd97"
      },
      "execution_count": 26,
      "outputs": [
        {
          "output_type": "stream",
          "name": "stderr",
          "text": [
            "/usr/local/lib/python3.7/dist-packages/IPython/core/interactiveshell.py:3326: DtypeWarning: Columns (2,3) have mixed types.Specify dtype option on import or set low_memory=False.\n",
            "  exec(code_obj, self.user_global_ns, self.user_ns)\n"
          ]
        },
        {
          "output_type": "stream",
          "name": "stdout",
          "text": [
            "<class 'pandas.core.frame.DataFrame'>\n",
            "Int64Index: 521809 entries, 0 to 593719\n",
            "Data columns (total 10 columns):\n",
            " #   Column           Non-Null Count   Dtype \n",
            "---  ------           --------------   ----- \n",
            " 0   Zipcode          521809 non-null  int64 \n",
            " 1   Median_Income    521809 non-null  object\n",
            " 2   Mean_Income      521809 non-null  object\n",
            " 3   Age Group        521809 non-null  object\n",
            " 4   Arrest Date      521809 non-null  object\n",
            " 5   Arrest Key       521809 non-null  int64 \n",
            " 6   Ofns Desc        521809 non-null  object\n",
            " 7   Perp Race        521809 non-null  object\n",
            " 8   Perp Sex         521809 non-null  object\n",
            " 9   Arrest Precinct  521809 non-null  int64 \n",
            "dtypes: int64(3), object(7)\n",
            "memory usage: 43.8+ MB\n"
          ]
        }
      ]
    },
    {
      "cell_type": "code",
      "source": [
        "train_df_2[\"Zipcode\"]  = train_df_2['Zipcode'].astype('category').cat.codes\n",
        "train_df_2[\"Arrest Key\"]  = train_df_2['Arrest Key'].astype('category').cat.codes\n",
        "train_df_2[\"Arrest Precinct\"]  = train_df_2['Arrest Precinct'].astype('category').cat.codes\n",
        "\n",
        "train_df_2[\"Age Group\"]  = train_df_2['Age Group'].astype('category').cat.codes\n",
        "train_df_2[\"Arrest Date\"]  = train_df_2['Arrest Date'].astype('category').cat.codes\n",
        "train_df_2[\"Ofns Desc\"]  = train_df_2['Ofns Desc'].astype('category').cat.codes\n",
        "train_df_2[\"Perp Race\"]  = train_df_2['Perp Race'].astype('category').cat.codes\n",
        "train_df_2[\"Perp Sex\"]  = train_df_2['Perp Sex'].astype('category').cat.codes\n",
        "\n",
        "\n",
        "train_df_2[\"Median_Income_int\"]  = train_df_2['Median_Income'].str.extract(\"(\\d+)\")[0]\n",
        "train_df_2[\"Mean_Income_int\"]  = train_df_2['Mean_Income'].str.extract(\"(\\d+)\")[0]\n",
        "train_df_2 = train_df_2.drop(columns=['Mean_Income', 'Median_Income'])\n",
        "train_df_2 = train_df_2.dropna()\n",
        "train_df_2['Mean_Income_int'] = train_df_2['Mean_Income_int'].astype(int)\n",
        "train_df_2['Median_Income_int'] = train_df_2['Median_Income_int'].astype(int)\n"
      ],
      "metadata": {
        "id": "bPTtNvoXaj7l"
      },
      "execution_count": 30,
      "outputs": []
    },
    {
      "cell_type": "code",
      "source": [
        "train_df_2.info()"
      ],
      "metadata": {
        "colab": {
          "base_uri": "https://localhost:8080/"
        },
        "id": "f4geXOmxa2Ry",
        "outputId": "52fce6c3-51c5-46a9-9fea-7b1c872d3b2e"
      },
      "execution_count": 31,
      "outputs": [
        {
          "output_type": "stream",
          "name": "stdout",
          "text": [
            "<class 'pandas.core.frame.DataFrame'>\n",
            "Int64Index: 320627 entries, 0 to 593719\n",
            "Data columns (total 10 columns):\n",
            " #   Column             Non-Null Count   Dtype\n",
            "---  ------             --------------   -----\n",
            " 0   Zipcode            320627 non-null  int8 \n",
            " 1   Age Group          320627 non-null  int8 \n",
            " 2   Arrest Date        320627 non-null  int16\n",
            " 3   Arrest Key         320627 non-null  int32\n",
            " 4   Ofns Desc          320627 non-null  int8 \n",
            " 5   Perp Race          320627 non-null  int8 \n",
            " 6   Perp Sex           320627 non-null  int8 \n",
            " 7   Arrest Precinct    320627 non-null  int8 \n",
            " 8   Median_Income_int  320627 non-null  int64\n",
            " 9   Mean_Income_int    320627 non-null  int64\n",
            "dtypes: int16(1), int32(1), int64(2), int8(6)\n",
            "memory usage: 11.0 MB\n"
          ]
        }
      ]
    },
    {
      "cell_type": "code",
      "source": [
        "cor=train_df_2.corr()\n",
        "lower_triangle_mask = np.triu(np.ones(cor.shape)).astype(np.bool)\n",
        "cor_mat_lower = cor.mask(lower_triangle_mask)\n",
        "plt.figure(figsize = (12,8))\n",
        "import seaborn as sns\n",
        "sns.heatmap(cor_mat_lower, annot=True, cmap='RdBu_r')"
      ],
      "metadata": {
        "colab": {
          "base_uri": "https://localhost:8080/",
          "height": 662
        },
        "id": "plBlTSglboEw",
        "outputId": "4a7f2384-6a8b-4080-aa89-8844c78370b6"
      },
      "execution_count": 32,
      "outputs": [
        {
          "output_type": "stream",
          "name": "stderr",
          "text": [
            "/usr/local/lib/python3.7/dist-packages/ipykernel_launcher.py:2: DeprecationWarning: `np.bool` is a deprecated alias for the builtin `bool`. To silence this warning, use `bool` by itself. Doing this will not modify any behavior and is safe. If you specifically wanted the numpy scalar type, use `np.bool_` here.\n",
            "Deprecated in NumPy 1.20; for more details and guidance: https://numpy.org/devdocs/release/1.20.0-notes.html#deprecations\n",
            "  \n"
          ]
        },
        {
          "output_type": "execute_result",
          "data": {
            "text/plain": [
              "<matplotlib.axes._subplots.AxesSubplot at 0x7fbcc8631250>"
            ]
          },
          "metadata": {},
          "execution_count": 32
        },
        {
          "output_type": "display_data",
          "data": {
            "text/plain": [
              "<Figure size 864x576 with 2 Axes>"
            ],
            "image/png": "[encoded data removed]"
          },
          "metadata": {
            "needs_background": "light"
          }
        }
      ]
    },
    {
      "cell_type": "markdown",
      "metadata": {
        "id": "9Urd7_vbqNls"
      },
      "source": [
        "# **Model Development**"
      ]
    },
    {
      "cell_type": "code",
      "metadata": {
        "id": "VHMvZz9Vsolo"
      },
      "source": [
        "from sklearn.metrics import accuracy_score"
      ],
      "execution_count": 33,
      "outputs": []
    },
    {
      "cell_type": "code",
      "metadata": {
        "id": "HuiQJvZfqcwq"
      },
      "source": [
        "X = train_df_2.drop(['Ofns Desc'],axis=1)\n",
        "y= train_df_2['Ofns Desc']"
      ],
      "execution_count": 38,
      "outputs": []
    },
    {
      "cell_type": "code",
      "metadata": {
        "id": "TDO8BKEQrgI-"
      },
      "source": [
        "from sklearn.model_selection import train_test_split\n",
        "x_tr,x_te,y_tr,y_te = train_test_split(X,y,test_size = 0.001, random_state=42)"
      ],
      "execution_count": 43,
      "outputs": []
    },
    {
      "cell_type": "markdown",
      "metadata": {
        "id": "TBqMjfAZsKFZ"
      },
      "source": [
        "## Decision Tree"
      ]
    },
    {
      "cell_type": "code",
      "metadata": {
        "colab": {
          "base_uri": "https://localhost:8080/"
        },
        "id": "_e4k6FCksJQE",
        "outputId": "3cbbd8e0-3d4f-46cd-d1bb-2de59872785e"
      },
      "source": [
        "from sklearn import tree\n",
        "\n",
        "dt = tree.DecisionTreeClassifier()\n",
        "dt = dt.fit(x_tr,y_tr)\n",
        "\n",
        "y_pred_dt = dt.predict(x_te)\n",
        "print(accuracy_score(y_te,y_pred_dt))"
      ],
      "execution_count": 44,
      "outputs": [
        {
          "output_type": "stream",
          "name": "stdout",
          "text": [
            "0.23052959501557632\n"
          ]
        }
      ]
    },
    {
      "cell_type": "markdown",
      "metadata": {
        "id": "_PKWCZlRtRLL"
      },
      "source": [
        "# Random Forest Classifier"
      ]
    },
    {
      "cell_type": "code",
      "metadata": {
        "colab": {
          "base_uri": "https://localhost:8080/"
        },
        "id": "JLyqBoRqtji6",
        "outputId": "33a787ae-e891-494e-d9c7-f9185304ac7b"
      },
      "source": [
        "from sklearn.ensemble import RandomForestClassifier\n",
        "\n",
        "rf = RandomForestClassifier(n_estimators= 15)\n",
        "rf = rf.fit(x_tr,y_tr)\n",
        "y_pred_rf = rf.predict(x_te)\n",
        "print(accuracy_score(y_te,y_pred_rf))"
      ],
      "execution_count": 45,
      "outputs": [
        {
          "output_type": "stream",
          "name": "stdout",
          "text": [
            "0.22118380062305296\n"
          ]
        }
      ]
    },
    {
      "cell_type": "markdown",
      "metadata": {
        "id": "_IJ5EUb3t1wI"
      },
      "source": [
        "# Bagging Classifier"
      ]
    },
    {
      "cell_type": "code",
      "metadata": {
        "colab": {
          "base_uri": "https://localhost:8080/"
        },
        "id": "7QzIi7Bgt5_y",
        "outputId": "7d0bf9e8-eccf-4fc2-8ce0-9fbc1d8d7019"
      },
      "source": [
        "from sklearn.ensemble import BaggingClassifier\n",
        "from sklearn.neighbors import KNeighborsClassifier\n",
        "bagging = BaggingClassifier(KNeighborsClassifier(),\n",
        "                            max_samples=0.5, max_features=0.5)\n",
        "bagging = bagging.fit(x_tr,y_tr)\n",
        "y_pred_b = bagging.predict(x_te)\n",
        "print(accuracy_score(y_te,y_pred_b))"
      ],
      "execution_count": 46,
      "outputs": [
        {
          "output_type": "stream",
          "name": "stdout",
          "text": [
            "0.26479750778816197\n"
          ]
        }
      ]
    },
    {
      "cell_type": "markdown",
      "metadata": {
        "id": "ZDk0tydAuVFB"
      },
      "source": [
        "# Adaboost Classifier"
      ]
    },
    {
      "cell_type": "code",
      "metadata": {
        "colab": {
          "base_uri": "https://localhost:8080/"
        },
        "id": "-0OYEdzuuYPZ",
        "outputId": "37c3e84b-a0a1-44fa-9c9d-b67e3afdf367"
      },
      "source": [
        "from sklearn.model_selection import cross_val_score\n",
        "from sklearn.datasets import load_iris\n",
        "from sklearn.ensemble import AdaBoostClassifier\n",
        "\n",
        "ada = AdaBoostClassifier(n_estimators=100)\n",
        "ada = ada.fit(x_tr,y_tr)\n",
        "y_pred_ada = ada.predict(x_te)\n",
        "print(accuracy_score(y_te,y_pred_ada))"
      ],
      "execution_count": 47,
      "outputs": [
        {
          "output_type": "stream",
          "name": "stdout",
          "text": [
            "0.08411214953271028\n"
          ]
        }
      ]
    },
    {
      "cell_type": "markdown",
      "metadata": {
        "id": "k3qQx9ZFvGUI"
      },
      "source": [
        "# Voting Classifier"
      ]
    },
    {
      "cell_type": "code",
      "metadata": {
        "colab": {
          "base_uri": "https://localhost:8080/"
        },
        "id": "gGKC15XPvJOd",
        "outputId": "b8ca76d7-c1e1-4043-e1fb-8c21a4bdcf43"
      },
      "source": [
        "from sklearn.linear_model import LogisticRegression\n",
        "from sklearn.naive_bayes import GaussianNB\n",
        "from sklearn.ensemble import RandomForestClassifier, VotingClassifier\n",
        "clf1 = LogisticRegression(multi_class='multinomial', random_state=1)\n",
        "clf2 = RandomForestClassifier(n_estimators=50, random_state=1)\n",
        "clf3 = GaussianNB()\n",
        "\n",
        "eclf1 = VotingClassifier(estimators=[\n",
        "        ('lr', clf1), ('rf', clf2), ('gnb', clf3)], voting='hard')\n",
        "eclf1 = eclf1.fit(x_tr, y_tr)\n",
        "print(\"LR\",eclf1.score(x_te,y_te))\n",
        "\n",
        "np.array_equal(eclf1.named_estimators_.lr.predict(x_tr),\n",
        "               eclf1.named_estimators_['lr'].predict(x_tr))\n",
        "\n",
        "eclf2 = VotingClassifier(estimators=[\n",
        "        ('lr', clf1), ('rf', clf2), ('gnb', clf3)],\n",
        "        voting='soft')\n",
        "eclf2 = eclf2.fit(x_tr, y_tr)\n",
        "print(\"RFC\",eclf2.score(x_te,y_te))\n",
        "\n",
        "\n",
        "eclf3 = VotingClassifier(estimators=[\n",
        "       ('lr', clf1), ('rf', clf2), ('gnb', clf3)],\n",
        "       voting='soft', weights=[2,1,1],\n",
        "       flatten_transform=True)\n",
        "\n",
        "eclf3 = eclf3.fit(x_tr,y_tr)\n",
        "print(\"GNB\",eclf3.score(x_te,y_te))\n"
      ],
      "execution_count": null,
      "outputs": [
        {
          "output_type": "stream",
          "name": "stderr",
          "text": [
            "/usr/local/lib/python3.7/dist-packages/sklearn/linear_model/_logistic.py:818: ConvergenceWarning: lbfgs failed to converge (status=1):\n",
            "STOP: TOTAL NO. of ITERATIONS REACHED LIMIT.\n",
            "\n",
            "Increase the number of iterations (max_iter) or scale the data as shown in:\n",
            "    https://scikit-learn.org/stable/modules/preprocessing.html\n",
            "Please also refer to the documentation for alternative solver options:\n",
            "    https://scikit-learn.org/stable/modules/linear_model.html#logistic-regression\n",
            "  extra_warning_msg=_LOGISTIC_SOLVER_CONVERGENCE_MSG,\n"
          ]
        },
        {
          "output_type": "stream",
          "name": "stdout",
          "text": [
            "LR 0.17445482866043613\n"
          ]
        },
        {
          "output_type": "stream",
          "name": "stderr",
          "text": [
            "/usr/local/lib/python3.7/dist-packages/sklearn/linear_model/_logistic.py:818: ConvergenceWarning: lbfgs failed to converge (status=1):\n",
            "STOP: TOTAL NO. of ITERATIONS REACHED LIMIT.\n",
            "\n",
            "Increase the number of iterations (max_iter) or scale the data as shown in:\n",
            "    https://scikit-learn.org/stable/modules/preprocessing.html\n",
            "Please also refer to the documentation for alternative solver options:\n",
            "    https://scikit-learn.org/stable/modules/linear_model.html#logistic-regression\n",
            "  extra_warning_msg=_LOGISTIC_SOLVER_CONVERGENCE_MSG,\n"
          ]
        }
      ]
    },
    {
      "cell_type": "markdown",
      "metadata": {
        "id": "lcDa4_JZwbIc"
      },
      "source": [
        "#**Applying the classifier on test_data.csv**\n",
        "\n",
        "Since the adaboost classifier has more accuracy we will using the adaboost classifier on test data"
      ]
    },
    {
      "cell_type": "code",
      "metadata": {
        "colab": {
          "base_uri": "https://localhost:8080/"
        },
        "id": "ewKfHC2xw3gx",
        "outputId": "f2d1ad96-dbff-4c11-bfd7-1999c3df08fb"
      },
      "source": [
        "print(train_df_1.columns)\n",
        "print(test_df_1.columns)"
      ],
      "execution_count": null,
      "outputs": [
        {
          "output_type": "stream",
          "text": [
            "Index(['Age', 'Driving_License', 'Region_Code', 'Annual_Premium', 'Response',\n",
            "       'Gender_Male', 'Vehicle_Damage'],\n",
            "      dtype='object')\n",
            "Index(['Gender', 'Age', 'Driving_License', 'Region_Code', 'Vehicle_Damage',\n",
            "       'Annual_Premium'],\n",
            "      dtype='object')\n"
          ],
          "name": "stdout"
        }
      ]
    },
    {
      "cell_type": "code",
      "metadata": {
        "colab": {
          "base_uri": "https://localhost:8080/"
        },
        "id": "0lFFY9ZjxacI",
        "outputId": "2527eb26-884a-4896-f738-88c402af5a91"
      },
      "source": [
        "answers_ada = ada.predict(test_df_v)\n",
        "set(answers_ada)"
      ],
      "execution_count": null,
      "outputs": [
        {
          "output_type": "execute_result",
          "data": {
            "text/plain": [
              "{0}"
            ]
          },
          "metadata": {
            "tags": []
          },
          "execution_count": 31
        }
      ]
    },
    {
      "cell_type": "markdown",
      "metadata": {
        "id": "LtZwWvK9yll-"
      },
      "source": [
        "adaboot is giving the response 0 for every record\n",
        "checking using bagging classifier"
      ]
    },
    {
      "cell_type": "code",
      "metadata": {
        "colab": {
          "base_uri": "https://localhost:8080/"
        },
        "id": "sId-NFQeyyXm",
        "outputId": "d39e50fe-940e-4b5f-dee4-29aaf1fc5313"
      },
      "source": [
        "answers_bag = bagging.predict(test_df_v)\n",
        "set(answers_bag)"
      ],
      "execution_count": null,
      "outputs": [
        {
          "output_type": "execute_result",
          "data": {
            "text/plain": [
              "{0}"
            ]
          },
          "metadata": {
            "tags": []
          },
          "execution_count": 32
        }
      ]
    },
    {
      "cell_type": "code",
      "metadata": {
        "colab": {
          "base_uri": "https://localhost:8080/"
        },
        "id": "4rLmirQLzSbN",
        "outputId": "cfd9dcf0-bc75-4c74-f150-6942a90ef747"
      },
      "source": [
        "answers_ada"
      ],
      "execution_count": null,
      "outputs": [
        {
          "output_type": "execute_result",
          "data": {
            "text/plain": [
              "array([0, 0, 0, ..., 0, 0, 0])"
            ]
          },
          "metadata": {
            "tags": []
          },
          "execution_count": 33
        }
      ]
    }
  ]
}