{
 "cells": [
  {
   "cell_type": "code",
   "metadata": {
    "tags": [],
    "cell_id": "719a7c7f-475e-45fc-a90d-e6d21ef9c1d7",
    "deepnote_to_be_reexecuted": false,
    "source_hash": "c76c7c51",
    "execution_start": 1664643435756,
    "execution_millis": 2,
    "deepnote_cell_type": "code",
    "deepnote_cell_height": 94
   },
   "source": "import pandas as pd\nimport numpy as np",
   "execution_count": null,
   "outputs": []
  },
  {
   "cell_type": "code",
   "metadata": {
    "cell_id": "05d8f8e7a7de43609cf4941e9b3bcff4",
    "tags": [],
    "deepnote_to_be_reexecuted": false,
    "source_hash": "3cdc13de",
    "execution_start": 1664643965299,
    "execution_millis": 14605,
    "deepnote_cell_type": "code",
    "deepnote_cell_height": 285
   },
   "source": "arrests = pd.read_csv(\"/work/data/NYPD_Arrests_Data__Historic_.csv\")\narrests.head(2)",
   "execution_count": null,
   "outputs": [
    {
     "output_type": "execute_result",
     "execution_count": 2,
     "data": {
      "application/vnd.deepnote.dataframe.v3+json": {
       "column_count": 19,
       "row_count": 2,
       "columns": [
        {
         "name": "ARREST_KEY",
         "dtype": "int64",
         "stats": {
          "unique_count": 2,
          "nan_count": 0,
          "min": "32311380",
          "max": "192799737",
          "histogram": [
           {
            "bin_start": 32311380,
            "bin_end": 48360215.7,
            "count": 1
           },
           {
            "bin_start": 48360215.7,
            "bin_end": 64409051.4,
            "count": 0
           },
           {
            "bin_start": 64409051.4,
            "bin_end": 80457887.1,
            "count": 0
           },
           {
            "bin_start": 80457887.1,
            "bin_end": 96506722.8,
            "count": 0
           },
           {
            "bin_start": 96506722.8,
            "bin_end": 112555558.5,
            "count": 0
           },
           {
            "bin_start": 112555558.5,
            "bin_end": 128604394.19999999,
            "count": 0
           },
           {
            "bin_start": 128604394.19999999,
            "bin_end": 144653229.89999998,
            "count": 0
           },
           {
            "bin_start": 144653229.89999998,
            "bin_end": 160702065.6,
            "count": 0
           },
           {
            "bin_start": 160702065.6,
            "bin_end": 176750901.29999998,
            "count": 0
           },
           {
            "bin_start": 176750901.29999998,
            "bin_end": 192799737,
            "count": 1
           }
          ]
         }
        },
        {
         "name": "ARREST_DATE",
         "dtype": "object",
         "stats": {
          "unique_count": 2,
          "nan_count": 0,
          "categories": [
           {
            "name": "06/18/2007",
            "count": 1
           },
           {
            "name": "01/26/2019",
            "count": 1
           }
          ]
         }
        },
        {
         "name": "PD_CD",
         "dtype": "float64",
         "stats": {
          "unique_count": 2,
          "nan_count": 0,
          "min": "177.0",
          "max": "511.0",
          "histogram": [
           {
            "bin_start": 177,
            "bin_end": 210.4,
            "count": 1
           },
           {
            "bin_start": 210.4,
            "bin_end": 243.8,
            "count": 0
           },
           {
            "bin_start": 243.8,
            "bin_end": 277.2,
            "count": 0
           },
           {
            "bin_start": 277.2,
            "bin_end": 310.6,
            "count": 0
           },
           {
            "bin_start": 310.6,
            "bin_end": 344,
            "count": 0
           },
           {
            "bin_start": 344,
            "bin_end": 377.4,
            "count": 0
           },
           {
            "bin_start": 377.4,
            "bin_end": 410.79999999999995,
            "count": 0
           },
           {
            "bin_start": 410.79999999999995,
            "bin_end": 444.2,
            "count": 0
           },
           {
            "bin_start": 444.2,
            "bin_end": 477.59999999999997,
            "count": 0
           },
           {
            "bin_start": 477.59999999999997,
            "bin_end": 511,
            "count": 1
           }
          ]
         }
        },
        {
         "name": "PD_DESC",
         "dtype": "object",
         "stats": {
          "unique_count": 2,
          "nan_count": 0,
          "categories": [
           {
            "name": "CONTROLLED SUBSTANCE, POSSESSION 7",
            "count": 1
           },
           {
            "name": "SEXUAL ABUSE",
            "count": 1
           }
          ]
         }
        },
        {
         "name": "KY_CD",
         "dtype": "float64",
         "stats": {
          "unique_count": 2,
          "nan_count": 0,
          "min": "116.0",
          "max": "235.0",
          "histogram": [
           {
            "bin_start": 116,
            "bin_end": 127.9,
            "count": 1
           },
           {
            "bin_start": 127.9,
            "bin_end": 139.8,
            "count": 0
           },
           {
            "bin_start": 139.8,
            "bin_end": 151.7,
            "count": 0
           },
           {
            "bin_start": 151.7,
            "bin_end": 163.6,
            "count": 0
           },
           {
            "bin_start": 163.6,
            "bin_end": 175.5,
            "count": 0
           },
           {
            "bin_start": 175.5,
            "bin_end": 187.4,
            "count": 0
           },
           {
            "bin_start": 187.4,
            "bin_end": 199.3,
            "count": 0
           },
           {
            "bin_start": 199.3,
            "bin_end": 211.2,
            "count": 0
           },
           {
            "bin_start": 211.2,
            "bin_end": 223.10000000000002,
            "count": 0
           },
           {
            "bin_start": 223.10000000000002,
            "bin_end": 235,
            "count": 1
           }
          ]
         }
        },
        {
         "name": "OFNS_DESC",
         "dtype": "object",
         "stats": {
          "unique_count": 2,
          "nan_count": 0,
          "categories": [
           {
            "name": "DANGEROUS DRUGS",
            "count": 1
           },
           {
            "name": "SEX CRIMES",
            "count": 1
           }
          ]
         }
        },
        {
         "name": "LAW_CODE",
         "dtype": "object",
         "stats": {
          "unique_count": 2,
          "nan_count": 0,
          "categories": [
           {
            "name": "PL 2200300",
            "count": 1
           },
           {
            "name": "PL 1306503",
            "count": 1
           }
          ]
         }
        },
        {
         "name": "LAW_CAT_CD",
         "dtype": "object",
         "stats": {
          "unique_count": 2,
          "nan_count": 0,
          "categories": [
           {
            "name": "M",
            "count": 1
           },
           {
            "name": "F",
            "count": 1
           }
          ]
         }
        },
        {
         "name": "ARREST_BORO",
         "dtype": "object",
         "stats": {
          "unique_count": 2,
          "nan_count": 0,
          "categories": [
           {
            "name": "Q",
            "count": 1
           },
           {
            "name": "M",
            "count": 1
           }
          ]
         }
        },
        {
         "name": "ARREST_PRECINCT",
         "dtype": "int64",
         "stats": {
          "unique_count": 2,
          "nan_count": 0,
          "min": "25",
          "max": "27",
          "histogram": [
           {
            "bin_start": 25,
            "bin_end": 25.2,
            "count": 1
           },
           {
            "bin_start": 25.2,
            "bin_end": 25.4,
            "count": 0
           },
           {
            "bin_start": 25.4,
            "bin_end": 25.6,
            "count": 0
           },
           {
            "bin_start": 25.6,
            "bin_end": 25.8,
            "count": 0
           },
           {
            "bin_start": 25.8,
            "bin_end": 26,
            "count": 0
           },
           {
            "bin_start": 26,
            "bin_end": 26.2,
            "count": 0
           },
           {
            "bin_start": 26.2,
            "bin_end": 26.4,
            "count": 0
           },
           {
            "bin_start": 26.4,
            "bin_end": 26.6,
            "count": 0
           },
           {
            "bin_start": 26.6,
            "bin_end": 26.8,
            "count": 0
           },
           {
            "bin_start": 26.8,
            "bin_end": 27,
            "count": 1
           }
          ]
         }
        },
        {
         "name": "JURISDICTION_CODE",
         "dtype": "float64",
         "stats": {
          "unique_count": 2,
          "nan_count": 0,
          "min": "0.0",
          "max": "1.0",
          "histogram": [
           {
            "bin_start": 0,
            "bin_end": 0.1,
            "count": 1
           },
           {
            "bin_start": 0.1,
            "bin_end": 0.2,
            "count": 0
           },
           {
            "bin_start": 0.2,
            "bin_end": 0.30000000000000004,
            "count": 0
           },
           {
            "bin_start": 0.30000000000000004,
            "bin_end": 0.4,
            "count": 0
           },
           {
            "bin_start": 0.4,
            "bin_end": 0.5,
            "count": 0
           },
           {
            "bin_start": 0.5,
            "bin_end": 0.6000000000000001,
            "count": 0
           },
           {
            "bin_start": 0.6000000000000001,
            "bin_end": 0.7000000000000001,
            "count": 0
           },
           {
            "bin_start": 0.7000000000000001,
            "bin_end": 0.8,
            "count": 0
           },
           {
            "bin_start": 0.8,
            "bin_end": 0.9,
            "count": 0
           },
           {
            "bin_start": 0.9,
            "bin_end": 1,
            "count": 1
           }
          ]
         }
        },
        {
         "name": "AGE_GROUP",
         "dtype": "object",
         "stats": {
          "unique_count": 2,
          "nan_count": 0,
          "categories": [
           {
            "name": "18-24",
            "count": 1
           },
           {
            "name": "45-64",
            "count": 1
           }
          ]
         }
        },
        {
         "name": "PERP_SEX",
         "dtype": "object",
         "stats": {
          "unique_count": 1,
          "nan_count": 0,
          "categories": [
           {
            "name": "M",
            "count": 2
           }
          ]
         }
        },
        {
         "name": "PERP_RACE",
         "dtype": "object",
         "stats": {
          "unique_count": 1,
          "nan_count": 0,
          "categories": [
           {
            "name": "BLACK",
            "count": 2
           }
          ]
         }
        },
        {
         "name": "X_COORD_CD",
         "dtype": "float64",
         "stats": {
          "unique_count": 1,
          "nan_count": 1,
          "min": "1000555.0",
          "max": "1000555.0",
          "histogram": [
           {
            "bin_start": 1000554.5,
            "bin_end": 1000554.6,
            "count": 0
           },
           {
            "bin_start": 1000554.6,
            "bin_end": 1000554.7,
            "count": 0
           },
           {
            "bin_start": 1000554.7,
            "bin_end": 1000554.8,
            "count": 0
           },
           {
            "bin_start": 1000554.8,
            "bin_end": 1000554.9,
            "count": 0
           },
           {
            "bin_start": 1000554.9,
            "bin_end": 1000555,
            "count": 0
           },
           {
            "bin_start": 1000555,
            "bin_end": 1000555.1,
            "count": 1
           },
           {
            "bin_start": 1000555.1,
            "bin_end": 1000555.2,
            "count": 0
           },
           {
            "bin_start": 1000555.2,
            "bin_end": 1000555.3,
            "count": 0
           },
           {
            "bin_start": 1000555.3,
            "bin_end": 1000555.4,
            "count": 0
           },
           {
            "bin_start": 1000555.4,
            "bin_end": 1000555.5,
            "count": 0
           }
          ]
         }
        },
        {
         "name": "Y_COORD_CD",
         "dtype": "float64",
         "stats": {
          "unique_count": 1,
          "nan_count": 1,
          "min": "230994.0",
          "max": "230994.0",
          "histogram": [
           {
            "bin_start": 230993.5,
            "bin_end": 230993.6,
            "count": 0
           },
           {
            "bin_start": 230993.6,
            "bin_end": 230993.7,
            "count": 0
           },
           {
            "bin_start": 230993.7,
            "bin_end": 230993.8,
            "count": 0
           },
           {
            "bin_start": 230993.8,
            "bin_end": 230993.9,
            "count": 0
           },
           {
            "bin_start": 230993.9,
            "bin_end": 230994,
            "count": 0
           },
           {
            "bin_start": 230994,
            "bin_end": 230994.1,
            "count": 1
           },
           {
            "bin_start": 230994.1,
            "bin_end": 230994.2,
            "count": 0
           },
           {
            "bin_start": 230994.2,
            "bin_end": 230994.3,
            "count": 0
           },
           {
            "bin_start": 230994.3,
            "bin_end": 230994.4,
            "count": 0
           },
           {
            "bin_start": 230994.4,
            "bin_end": 230994.5,
            "count": 0
           }
          ]
         }
        },
        {
         "name": "Latitude",
         "dtype": "float64",
         "stats": {
          "unique_count": 1,
          "nan_count": 1,
          "min": "40.800694331000045",
          "max": "40.800694331000045",
          "histogram": [
           {
            "bin_start": 40.300694331000045,
            "bin_end": 40.40069433100005,
            "count": 0
           },
           {
            "bin_start": 40.40069433100005,
            "bin_end": 40.50069433100005,
            "count": 0
           },
           {
            "bin_start": 40.50069433100005,
            "bin_end": 40.60069433100004,
            "count": 0
           },
           {
            "bin_start": 40.60069433100004,
            "bin_end": 40.700694331000044,
            "count": 0
           },
           {
            "bin_start": 40.700694331000044,
            "bin_end": 40.800694331000045,
            "count": 0
           },
           {
            "bin_start": 40.800694331000045,
            "bin_end": 40.90069433100005,
            "count": 1
           },
           {
            "bin_start": 40.90069433100005,
            "bin_end": 41.00069433100005,
            "count": 0
           },
           {
            "bin_start": 41.00069433100005,
            "bin_end": 41.10069433100004,
            "count": 0
           },
           {
            "bin_start": 41.10069433100004,
            "bin_end": 41.200694331000044,
            "count": 0
           },
           {
            "bin_start": 41.200694331000044,
            "bin_end": 41.300694331000045,
            "count": 0
           }
          ]
         }
        },
        {
         "name": "Longitude",
         "dtype": "float64",
         "stats": {
          "unique_count": 1,
          "nan_count": 1,
          "min": "-73.94110928599997",
          "max": "-73.94110928599997",
          "histogram": [
           {
            "bin_start": -74.44110928599997,
            "bin_end": -74.34110928599998,
            "count": 0
           },
           {
            "bin_start": -74.34110928599998,
            "bin_end": -74.24110928599997,
            "count": 0
           },
           {
            "bin_start": -74.24110928599997,
            "bin_end": -74.14110928599997,
            "count": 0
           },
           {
            "bin_start": -74.14110928599997,
            "bin_end": -74.04110928599997,
            "count": 0
           },
           {
            "bin_start": -74.04110928599997,
            "bin_end": -73.94110928599997,
            "count": 0
           },
           {
            "bin_start": -73.94110928599997,
            "bin_end": -73.84110928599998,
            "count": 1
           },
           {
            "bin_start": -73.84110928599998,
            "bin_end": -73.74110928599997,
            "count": 0
           },
           {
            "bin_start": -73.74110928599997,
            "bin_end": -73.64110928599997,
            "count": 0
           },
           {
            "bin_start": -73.64110928599997,
            "bin_end": -73.54110928599997,
            "count": 0
           },
           {
            "bin_start": -73.54110928599997,
            "bin_end": -73.44110928599997,
            "count": 0
           }
          ]
         }
        },
        {
         "name": "Lon_Lat",
         "dtype": "object",
         "stats": {
          "unique_count": 1,
          "nan_count": 1,
          "categories": [
           {
            "name": "POINT (-73.94110928599997 40.800694331000045)",
            "count": 1
           },
           {
            "name": "Missing",
            "count": 1
           }
          ]
         }
        },
        {
         "name": "_deepnote_index_column",
         "dtype": "int64"
        }
       ],
       "rows": [
        {
         "ARREST_KEY": "32311380",
         "ARREST_DATE": "06/18/2007",
         "PD_CD": "511.0",
         "PD_DESC": "CONTROLLED SUBSTANCE, POSSESSION 7",
         "KY_CD": "235.0",
         "OFNS_DESC": "DANGEROUS DRUGS",
         "LAW_CODE": "PL 2200300",
         "LAW_CAT_CD": "M",
         "ARREST_BORO": "Q",
         "ARREST_PRECINCT": "27",
         "JURISDICTION_CODE": "1.0",
         "AGE_GROUP": "18-24",
         "PERP_SEX": "M",
         "PERP_RACE": "BLACK",
         "X_COORD_CD": "nan",
         "Y_COORD_CD": "nan",
         "Latitude": "nan",
         "Longitude": "nan",
         "Lon_Lat": "nan",
         "_deepnote_index_column": "0"
        },
        {
         "ARREST_KEY": "192799737",
         "ARREST_DATE": "01/26/2019",
         "PD_CD": "177.0",
         "PD_DESC": "SEXUAL ABUSE",
         "KY_CD": "116.0",
         "OFNS_DESC": "SEX CRIMES",
         "LAW_CODE": "PL 1306503",
         "LAW_CAT_CD": "F",
         "ARREST_BORO": "M",
         "ARREST_PRECINCT": "25",
         "JURISDICTION_CODE": "0.0",
         "AGE_GROUP": "45-64",
         "PERP_SEX": "M",
         "PERP_RACE": "BLACK",
         "X_COORD_CD": "1000555.0",
         "Y_COORD_CD": "230994.0",
         "Latitude": "40.800694331000045",
         "Longitude": "-73.94110928599997",
         "Lon_Lat": "POINT (-73.94110928599997 40.800694331000045)",
         "_deepnote_index_column": "1"
        }
       ]
      },
      "text/plain": "   ARREST_KEY ARREST_DATE  PD_CD                             PD_DESC  KY_CD  \\\n0    32311380  06/18/2007  511.0  CONTROLLED SUBSTANCE, POSSESSION 7  235.0   \n1   192799737  01/26/2019  177.0                        SEXUAL ABUSE  116.0   \n\n         OFNS_DESC    LAW_CODE LAW_CAT_CD ARREST_BORO  ARREST_PRECINCT  \\\n0  DANGEROUS DRUGS  PL 2200300          M           Q               27   \n1       SEX CRIMES  PL 1306503          F           M               25   \n\n   JURISDICTION_CODE AGE_GROUP PERP_SEX PERP_RACE  X_COORD_CD  Y_COORD_CD  \\\n0                1.0     18-24        M     BLACK         NaN         NaN   \n1                0.0     45-64        M     BLACK   1000555.0    230994.0   \n\n    Latitude  Longitude                                        Lon_Lat  \n0        NaN        NaN                                            NaN  \n1  40.800694 -73.941109  POINT (-73.94110928599997 40.800694331000045)  ",
      "text/html": "<div>\n<style scoped>\n    .dataframe tbody tr th:only-of-type {\n        vertical-align: middle;\n    }\n\n    .dataframe tbody tr th {\n        vertical-align: top;\n    }\n\n    .dataframe thead th {\n        text-align: right;\n    }\n</style>\n<table border=\"1\" class=\"dataframe\">\n  <thead>\n    <tr style=\"text-align: right;\">\n      <th></th>\n      <th>ARREST_KEY</th>\n      <th>ARREST_DATE</th>\n      <th>PD_CD</th>\n      <th>PD_DESC</th>\n      <th>KY_CD</th>\n      <th>OFNS_DESC</th>\n      <th>LAW_CODE</th>\n      <th>LAW_CAT_CD</th>\n      <th>ARREST_BORO</th>\n      <th>ARREST_PRECINCT</th>\n      <th>JURISDICTION_CODE</th>\n      <th>AGE_GROUP</th>\n      <th>PERP_SEX</th>\n      <th>PERP_RACE</th>\n      <th>X_COORD_CD</th>\n      <th>Y_COORD_CD</th>\n      <th>Latitude</th>\n      <th>Longitude</th>\n      <th>Lon_Lat</th>\n    </tr>\n  </thead>\n  <tbody>\n    <tr>\n      <th>0</th>\n      <td>32311380</td>\n      <td>06/18/2007</td>\n      <td>511.0</td>\n      <td>CONTROLLED SUBSTANCE, POSSESSION 7</td>\n      <td>235.0</td>\n      <td>DANGEROUS DRUGS</td>\n      <td>PL 2200300</td>\n      <td>M</td>\n      <td>Q</td>\n      <td>27</td>\n      <td>1.0</td>\n      <td>18-24</td>\n      <td>M</td>\n      <td>BLACK</td>\n      <td>NaN</td>\n      <td>NaN</td>\n      <td>NaN</td>\n      <td>NaN</td>\n      <td>NaN</td>\n    </tr>\n    <tr>\n      <th>1</th>\n      <td>192799737</td>\n      <td>01/26/2019</td>\n      <td>177.0</td>\n      <td>SEXUAL ABUSE</td>\n      <td>116.0</td>\n      <td>SEX CRIMES</td>\n      <td>PL 1306503</td>\n      <td>F</td>\n      <td>M</td>\n      <td>25</td>\n      <td>0.0</td>\n      <td>45-64</td>\n      <td>M</td>\n      <td>BLACK</td>\n      <td>1000555.0</td>\n      <td>230994.0</td>\n      <td>40.800694</td>\n      <td>-73.941109</td>\n      <td>POINT (-73.94110928599997 40.800694331000045)</td>\n    </tr>\n  </tbody>\n</table>\n</div>"
     },
     "metadata": {}
    }
   ]
  },
  {
   "cell_type": "code",
   "metadata": {
    "cell_id": "8fda31e09bac47cb9e282b712ef620c3",
    "tags": [],
    "deepnote_to_be_reexecuted": false,
    "source_hash": "ba9a34e0",
    "execution_start": 1664643979905,
    "execution_millis": 2612,
    "deepnote_cell_type": "code",
    "deepnote_cell_height": 476.90625,
    "deepnote_output_heights": [
     384.90625
    ]
   },
   "source": "arrests.isna().sum()",
   "execution_count": null,
   "outputs": [
    {
     "output_type": "execute_result",
     "execution_count": 3,
     "data": {
      "text/plain": "ARREST_KEY               0\nARREST_DATE              0\nPD_CD                  284\nPD_DESC               9066\nKY_CD                 9066\nOFNS_DESC             9066\nLAW_CODE               196\nLAW_CAT_CD           18861\nARREST_BORO              8\nARREST_PRECINCT          0\nJURISDICTION_CODE       10\nAGE_GROUP               17\nPERP_SEX                 0\nPERP_RACE                0\nX_COORD_CD               1\nY_COORD_CD               1\nLatitude                 1\nLongitude                1\nLon_Lat                  1\ndtype: int64"
     },
     "metadata": {}
    }
   ]
  },
  {
   "cell_type": "code",
   "metadata": {
    "cell_id": "894b0d18f17a40368c7994e5bf7e2c59",
    "tags": [],
    "deepnote_cell_type": "code",
    "deepnote_cell_height": 61
   },
   "source": "",
   "execution_count": null,
   "outputs": []
  },
  {
   "cell_type": "markdown",
   "source": "<a style='text-decoration:none;line-height:16px;display:flex;color:#5B5B62;padding:10px;justify-content:end;' href='https://deepnote.com?utm_source=created-in-deepnote-cell&projectId=c27f5838-af21-4a34-9417-2e85ad5840a0' target=\"_blank\">\n<img alt='Created in deepnote.com' style='display:inline;max-height:16px;margin:0px;margin-right:7.5px;' src='data:image/svg+xml;base64,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' > </img>\nCreated in <span style='font-weight:600;margin-left:4px;'>Deepnote</span></a>",
   "metadata": {
    "tags": [],
    "created_in_deepnote_cell": true,
    "deepnote_cell_type": "markdown"
   }
  }
 ],
 "nbformat": 4,
 "nbformat_minor": 2,
 "metadata": {
  "orig_nbformat": 2,
  "deepnote": {},
  "deepnote_notebook_id": "6a2a3c7f-128a-4fbc-b34c-dcd5298e55c1",
  "deepnote_execution_queue": []
 }
}