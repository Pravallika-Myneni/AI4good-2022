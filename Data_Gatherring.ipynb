{
 "cells": [
  {
   "cell_type": "code",
   "metadata": {
    "tags": [],
    "cell_id": "aa112bd4-9b8e-49c1-b9d8-6c357aa3a898",
    "deepnote_to_be_reexecuted": false,
    "source_hash": "b7dcc9c8",
    "execution_start": 1664636677794,
    "execution_millis": 0,
    "deepnote_cell_type": "code",
    "deepnote_cell_height": 94
   },
   "source": "import numpy as np\nimport pandas as pd",
   "execution_count": null,
   "outputs": []
  },
  {
   "cell_type": "code",
   "metadata": {
    "cell_id": "6543ce2f6df74416a3fb0b749a662b6e",
    "tags": [],
    "deepnote_to_be_reexecuted": false,
    "source_hash": "f99b34bc",
    "execution_start": 1664636677796,
    "execution_millis": 16214,
    "deepnote_cell_type": "code",
    "deepnote_cell_height": 464
   },
   "source": "arrests = pd.read_csv(\"/work/data/NYPD_Arrests_Data__Historic_.csv\")\narrests.sample(6)",
   "execution_count": null,
   "outputs": [
    {
     "output_type": "execute_result",
     "execution_count": 2,
     "data": {
      "application/vnd.deepnote.dataframe.v3+json": {
       "column_count": 19,
       "row_count": 6,
       "columns": [
        {
         "name": "ARREST_KEY",
         "dtype": "int64",
         "stats": {
          "unique_count": 6,
          "nan_count": 0,
          "min": "48221826",
          "max": "143678156",
          "histogram": [
           {
            "bin_start": 48221826,
            "bin_end": 57767459,
            "count": 1
           },
           {
            "bin_start": 57767459,
            "bin_end": 67313092,
            "count": 1
           },
           {
            "bin_start": 67313092,
            "bin_end": 76858725,
            "count": 1
           },
           {
            "bin_start": 76858725,
            "bin_end": 86404358,
            "count": 1
           },
           {
            "bin_start": 86404358,
            "bin_end": 95949991,
            "count": 0
           },
           {
            "bin_start": 95949991,
            "bin_end": 105495624,
            "count": 0
           },
           {
            "bin_start": 105495624,
            "bin_end": 115041257,
            "count": 0
           },
           {
            "bin_start": 115041257,
            "bin_end": 124586890,
            "count": 0
           },
           {
            "bin_start": 124586890,
            "bin_end": 134132523,
            "count": 0
           },
           {
            "bin_start": 134132523,
            "bin_end": 143678156,
            "count": 2
           }
          ]
         }
        },
        {
         "name": "ARREST_DATE",
         "dtype": "object",
         "stats": {
          "unique_count": 6,
          "nan_count": 0,
          "categories": [
           {
            "name": "01/12/2012",
            "count": 1
           },
           {
            "name": "06/13/2015",
            "count": 1
           },
           {
            "name": "4 others",
            "count": 4
           }
          ]
         }
        },
        {
         "name": "PD_CD",
         "dtype": "float64",
         "stats": {
          "unique_count": 5,
          "nan_count": 0,
          "min": "339.0",
          "max": "922.0",
          "histogram": [
           {
            "bin_start": 339,
            "bin_end": 397.3,
            "count": 2
           },
           {
            "bin_start": 397.3,
            "bin_end": 455.6,
            "count": 0
           },
           {
            "bin_start": 455.6,
            "bin_end": 513.9,
            "count": 2
           },
           {
            "bin_start": 513.9,
            "bin_end": 572.2,
            "count": 0
           },
           {
            "bin_start": 572.2,
            "bin_end": 630.5,
            "count": 0
           },
           {
            "bin_start": 630.5,
            "bin_end": 688.8,
            "count": 0
           },
           {
            "bin_start": 688.8,
            "bin_end": 747.0999999999999,
            "count": 0
           },
           {
            "bin_start": 747.0999999999999,
            "bin_end": 805.4,
            "count": 0
           },
           {
            "bin_start": 805.4,
            "bin_end": 863.6999999999999,
            "count": 0
           },
           {
            "bin_start": 863.6999999999999,
            "bin_end": 922,
            "count": 2
           }
          ]
         }
        },
        {
         "name": "PD_DESC",
         "dtype": "object",
         "stats": {
          "unique_count": 5,
          "nan_count": 0,
          "categories": [
           {
            "name": "LARCENY,PETIT FROM OPEN AREAS,UNCLASSIFIED",
            "count": 2
           },
           {
            "name": "LEAVING SCENE-ACCIDENT-PERSONA",
            "count": 1
           },
           {
            "name": "3 others",
            "count": 3
           }
          ]
         }
        },
        {
         "name": "KY_CD",
         "dtype": "float64",
         "stats": {
          "unique_count": 4,
          "nan_count": 0,
          "min": "235.0",
          "max": "348.0",
          "histogram": [
           {
            "bin_start": 235,
            "bin_end": 246.3,
            "count": 1
           },
           {
            "bin_start": 246.3,
            "bin_end": 257.6,
            "count": 0
           },
           {
            "bin_start": 257.6,
            "bin_end": 268.9,
            "count": 0
           },
           {
            "bin_start": 268.9,
            "bin_end": 280.2,
            "count": 0
           },
           {
            "bin_start": 280.2,
            "bin_end": 291.5,
            "count": 0
           },
           {
            "bin_start": 291.5,
            "bin_end": 302.8,
            "count": 0
           },
           {
            "bin_start": 302.8,
            "bin_end": 314.1,
            "count": 0
           },
           {
            "bin_start": 314.1,
            "bin_end": 325.4,
            "count": 0
           },
           {
            "bin_start": 325.4,
            "bin_end": 336.7,
            "count": 0
           },
           {
            "bin_start": 336.7,
            "bin_end": 348,
            "count": 5
           }
          ]
         }
        },
        {
         "name": "OFNS_DESC",
         "dtype": "object",
         "stats": {
          "unique_count": 4,
          "nan_count": 0,
          "categories": [
           {
            "name": "VEHICLE AND TRAFFIC LAWS",
            "count": 2
           },
           {
            "name": "PETIT LARCENY",
            "count": 2
           },
           {
            "name": "2 others",
            "count": 2
           }
          ]
         }
        },
        {
         "name": "LAW_CODE",
         "dtype": "object",
         "stats": {
          "unique_count": 5,
          "nan_count": 0,
          "categories": [
           {
            "name": "PL 1552500",
            "count": 2
           },
           {
            "name": "VTL06000AA",
            "count": 1
           },
           {
            "name": "3 others",
            "count": 3
           }
          ]
         }
        },
        {
         "name": "LAW_CAT_CD",
         "dtype": "object",
         "stats": {
          "unique_count": 1,
          "nan_count": 0,
          "categories": [
           {
            "name": "M",
            "count": 6
           }
          ]
         }
        },
        {
         "name": "ARREST_BORO",
         "dtype": "object",
         "stats": {
          "unique_count": 3,
          "nan_count": 0,
          "categories": [
           {
            "name": "B",
            "count": 3
           },
           {
            "name": "Q",
            "count": 2
           },
           {
            "name": "K",
            "count": 1
           }
          ]
         }
        },
        {
         "name": "ARREST_PRECINCT",
         "dtype": "int64",
         "stats": {
          "unique_count": 6,
          "nan_count": 0,
          "min": "43",
          "max": "107",
          "histogram": [
           {
            "bin_start": 43,
            "bin_end": 49.4,
            "count": 2
           },
           {
            "bin_start": 49.4,
            "bin_end": 55.8,
            "count": 1
           },
           {
            "bin_start": 55.8,
            "bin_end": 62.2,
            "count": 1
           },
           {
            "bin_start": 62.2,
            "bin_end": 68.6,
            "count": 0
           },
           {
            "bin_start": 68.6,
            "bin_end": 75,
            "count": 0
           },
           {
            "bin_start": 75,
            "bin_end": 81.4,
            "count": 0
           },
           {
            "bin_start": 81.4,
            "bin_end": 87.80000000000001,
            "count": 0
           },
           {
            "bin_start": 87.80000000000001,
            "bin_end": 94.2,
            "count": 0
           },
           {
            "bin_start": 94.2,
            "bin_end": 100.6,
            "count": 0
           },
           {
            "bin_start": 100.6,
            "bin_end": 107,
            "count": 2
           }
          ]
         }
        },
        {
         "name": "JURISDICTION_CODE",
         "dtype": "float64",
         "stats": {
          "unique_count": 2,
          "nan_count": 0,
          "min": "0.0",
          "max": "1.0",
          "histogram": [
           {
            "bin_start": 0,
            "bin_end": 0.1,
            "count": 5
           },
           {
            "bin_start": 0.1,
            "bin_end": 0.2,
            "count": 0
           },
           {
            "bin_start": 0.2,
            "bin_end": 0.30000000000000004,
            "count": 0
           },
           {
            "bin_start": 0.30000000000000004,
            "bin_end": 0.4,
            "count": 0
           },
           {
            "bin_start": 0.4,
            "bin_end": 0.5,
            "count": 0
           },
           {
            "bin_start": 0.5,
            "bin_end": 0.6000000000000001,
            "count": 0
           },
           {
            "bin_start": 0.6000000000000001,
            "bin_end": 0.7000000000000001,
            "count": 0
           },
           {
            "bin_start": 0.7000000000000001,
            "bin_end": 0.8,
            "count": 0
           },
           {
            "bin_start": 0.8,
            "bin_end": 0.9,
            "count": 0
           },
           {
            "bin_start": 0.9,
            "bin_end": 1,
            "count": 1
           }
          ]
         }
        },
        {
         "name": "AGE_GROUP",
         "dtype": "object",
         "stats": {
          "unique_count": 3,
          "nan_count": 0,
          "categories": [
           {
            "name": "25-44",
            "count": 4
           },
           {
            "name": "18-24",
            "count": 1
           },
           {
            "name": "<18",
            "count": 1
           }
          ]
         }
        },
        {
         "name": "PERP_SEX",
         "dtype": "object",
         "stats": {
          "unique_count": 2,
          "nan_count": 0,
          "categories": [
           {
            "name": "M",
            "count": 4
           },
           {
            "name": "F",
            "count": 2
           }
          ]
         }
        },
        {
         "name": "PERP_RACE",
         "dtype": "object",
         "stats": {
          "unique_count": 3,
          "nan_count": 0,
          "categories": [
           {
            "name": "BLACK",
            "count": 2
           },
           {
            "name": "WHITE",
            "count": 2
           },
           {
            "name": "WHITE HISPANIC",
            "count": 2
           }
          ]
         }
        },
        {
         "name": "X_COORD_CD",
         "dtype": "float64",
         "stats": {
          "unique_count": 6,
          "nan_count": 0,
          "min": "995101.0",
          "max": "1036658.0",
          "histogram": [
           {
            "bin_start": 995101,
            "bin_end": 999256.7,
            "count": 1
           },
           {
            "bin_start": 999256.7,
            "bin_end": 1003412.4,
            "count": 0
           },
           {
            "bin_start": 1003412.4,
            "bin_end": 1007568.1,
            "count": 0
           },
           {
            "bin_start": 1007568.1,
            "bin_end": 1011723.8,
            "count": 1
           },
           {
            "bin_start": 1011723.8,
            "bin_end": 1015879.5,
            "count": 0
           },
           {
            "bin_start": 1015879.5,
            "bin_end": 1020035.2,
            "count": 0
           },
           {
            "bin_start": 1020035.2,
            "bin_end": 1024190.9,
            "count": 1
           },
           {
            "bin_start": 1024190.9,
            "bin_end": 1028346.6,
            "count": 1
           },
           {
            "bin_start": 1028346.6,
            "bin_end": 1032502.3,
            "count": 0
           },
           {
            "bin_start": 1032502.3,
            "bin_end": 1036658,
            "count": 2
           }
          ]
         }
        },
        {
         "name": "Y_COORD_CD",
         "dtype": "float64",
         "stats": {
          "unique_count": 6,
          "nan_count": 0,
          "min": "151225.0",
          "max": "252019.0",
          "histogram": [
           {
            "bin_start": 151225,
            "bin_end": 161304.4,
            "count": 1
           },
           {
            "bin_start": 161304.4,
            "bin_end": 171383.8,
            "count": 0
           },
           {
            "bin_start": 171383.8,
            "bin_end": 181463.2,
            "count": 0
           },
           {
            "bin_start": 181463.2,
            "bin_end": 191542.6,
            "count": 1
           },
           {
            "bin_start": 191542.6,
            "bin_end": 201622,
            "count": 0
           },
           {
            "bin_start": 201622,
            "bin_end": 211701.4,
            "count": 1
           },
           {
            "bin_start": 211701.4,
            "bin_end": 221780.8,
            "count": 0
           },
           {
            "bin_start": 221780.8,
            "bin_end": 231860.2,
            "count": 0
           },
           {
            "bin_start": 231860.2,
            "bin_end": 241939.59999999998,
            "count": 0
           },
           {
            "bin_start": 241939.59999999998,
            "bin_end": 252019,
            "count": 3
           }
          ]
         }
        },
        {
         "name": "Latitude",
         "dtype": "float64",
         "stats": {
          "unique_count": 6,
          "nan_count": 0,
          "min": "40.58175531400008",
          "max": "40.858376975000056",
          "histogram": [
           {
            "bin_start": 40.58175531400008,
            "bin_end": 40.60941748010008,
            "count": 1
           },
           {
            "bin_start": 40.60941748010008,
            "bin_end": 40.63707964620007,
            "count": 0
           },
           {
            "bin_start": 40.63707964620007,
            "bin_end": 40.66474181230007,
            "count": 0
           },
           {
            "bin_start": 40.66474181230007,
            "bin_end": 40.692403978400066,
            "count": 1
           },
           {
            "bin_start": 40.692403978400066,
            "bin_end": 40.720066144500066,
            "count": 0
           },
           {
            "bin_start": 40.720066144500066,
            "bin_end": 40.74772831060007,
            "count": 1
           },
           {
            "bin_start": 40.74772831060007,
            "bin_end": 40.77539047670006,
            "count": 0
           },
           {
            "bin_start": 40.77539047670006,
            "bin_end": 40.80305264280006,
            "count": 0
           },
           {
            "bin_start": 40.80305264280006,
            "bin_end": 40.830714808900055,
            "count": 0
           },
           {
            "bin_start": 40.830714808900055,
            "bin_end": 40.858376975000056,
            "count": 3
           }
          ]
         }
        },
        {
         "name": "Longitude",
         "dtype": "float64",
         "stats": {
          "unique_count": 6,
          "nan_count": 0,
          "min": "-73.96093710499997",
          "max": "-73.81090891499997",
          "histogram": [
           {
            "bin_start": -73.96093710499997,
            "bin_end": -73.94593428599997,
            "count": 1
           },
           {
            "bin_start": -73.94593428599997,
            "bin_end": -73.93093146699997,
            "count": 0
           },
           {
            "bin_start": -73.93093146699997,
            "bin_end": -73.91592864799998,
            "count": 0
           },
           {
            "bin_start": -73.91592864799998,
            "bin_end": -73.90092582899997,
            "count": 1
           },
           {
            "bin_start": -73.90092582899997,
            "bin_end": -73.88592300999997,
            "count": 0
           },
           {
            "bin_start": -73.88592300999997,
            "bin_end": -73.87092019099997,
            "count": 0
           },
           {
            "bin_start": -73.87092019099997,
            "bin_end": -73.85591737199996,
            "count": 1
           },
           {
            "bin_start": -73.85591737199996,
            "bin_end": -73.84091455299998,
            "count": 1
           },
           {
            "bin_start": -73.84091455299998,
            "bin_end": -73.82591173399997,
            "count": 0
           },
           {
            "bin_start": -73.82591173399997,
            "bin_end": -73.81090891499997,
            "count": 2
           }
          ]
         }
        },
        {
         "name": "Lon_Lat",
         "dtype": "object",
         "stats": {
          "unique_count": 6,
          "nan_count": 0,
          "categories": [
           {
            "name": "POINT (-73.81090891499997 40.73011306700005)",
            "count": 1
           },
           {
            "name": "POINT (-73.96093710499997 40.58175531400008)",
            "count": 1
           },
           {
            "name": "4 others",
            "count": 4
           }
          ]
         }
        },
        {
         "name": "_deepnote_index_column",
         "dtype": "int64"
        }
       ],
       "rows": [
        {
         "ARREST_KEY": "82608828",
         "ARREST_DATE": "01/12/2012",
         "PD_CD": "916.0",
         "PD_DESC": "LEAVING SCENE-ACCIDENT-PERSONA",
         "KY_CD": "348.0",
         "OFNS_DESC": "VEHICLE AND TRAFFIC LAWS",
         "LAW_CODE": "VTL06000AA",
         "LAW_CAT_CD": "M",
         "ARREST_BORO": "Q",
         "ARREST_PRECINCT": "107",
         "JURISDICTION_CODE": "0.0",
         "AGE_GROUP": "18-24",
         "PERP_SEX": "M",
         "PERP_RACE": "BLACK",
         "X_COORD_CD": "1036658.0",
         "Y_COORD_CD": "205330.0",
         "Latitude": "40.73011306700005",
         "Longitude": "-73.81090891499997",
         "Lon_Lat": "POINT (-73.81090891499997 40.73011306700005)",
         "_deepnote_index_column": "2808100"
        },
        {
         "ARREST_KEY": "143678156",
         "ARREST_DATE": "06/13/2015",
         "PD_CD": "511.0",
         "PD_DESC": "CONTROLLED SUBSTANCE, POSSESSION 7",
         "KY_CD": "235.0",
         "OFNS_DESC": "DANGEROUS DRUGS",
         "LAW_CODE": "PL 2200300",
         "LAW_CAT_CD": "M",
         "ARREST_BORO": "K",
         "ARREST_PRECINCT": "60",
         "JURISDICTION_CODE": "0.0",
         "AGE_GROUP": "25-44",
         "PERP_SEX": "M",
         "PERP_RACE": "WHITE",
         "X_COORD_CD": "995101.0",
         "Y_COORD_CD": "151225.0",
         "Latitude": "40.58175531400008",
         "Longitude": "-73.96093710499997",
         "Lon_Lat": "POINT (-73.96093710499997 40.58175531400008)",
         "_deepnote_index_column": "1507483"
        },
        {
         "ARREST_KEY": "73088353",
         "ARREST_DATE": "06/07/2010",
         "PD_CD": "922.0",
         "PD_DESC": "TRAFFIC,UNCLASSIFIED MISDEMEANOR",
         "KY_CD": "348.0",
         "OFNS_DESC": "VEHICLE AND TRAFFIC LAWS",
         "LAW_CODE": "VTL05110A4",
         "LAW_CAT_CD": "M",
         "ARREST_BORO": "Q",
         "ARREST_PRECINCT": "106",
         "JURISDICTION_CODE": "0.0",
         "AGE_GROUP": "25-44",
         "PERP_SEX": "F",
         "PERP_RACE": "WHITE",
         "X_COORD_CD": "1036056.0",
         "Y_COORD_CD": "182348.0",
         "Latitude": "40.66703651500006",
         "Longitude": "-73.81325774699997",
         "Lon_Lat": "POINT (-73.81325774699997 40.66703651500006)",
         "_deepnote_index_column": "3487509"
        },
        {
         "ARREST_KEY": "140337927",
         "ARREST_DATE": "12/28/2014",
         "PD_CD": "339.0",
         "PD_DESC": "LARCENY,PETIT FROM OPEN AREAS,UNCLASSIFIED",
         "KY_CD": "341.0",
         "OFNS_DESC": "PETIT LARCENY",
         "LAW_CODE": "PL 1552500",
         "LAW_CAT_CD": "M",
         "ARREST_BORO": "B",
         "ARREST_PRECINCT": "43",
         "JURISDICTION_CODE": "0.0",
         "AGE_GROUP": "<18",
         "PERP_SEX": "M",
         "PERP_RACE": "WHITE HISPANIC",
         "X_COORD_CD": "1022678.0",
         "Y_COORD_CD": "243888.0",
         "Latitude": "40.83601618200005",
         "Longitude": "-73.86112929999997",
         "Lon_Lat": "POINT (-73.86112929999997 40.836016182000044)",
         "_deepnote_index_column": "1675288"
        },
        {
         "ARREST_KEY": "48221826",
         "ARREST_DATE": "07/10/2008",
         "PD_CD": "478.0",
         "PD_DESC": "THEFT OF SERVICES, UNCLASSIFIED",
         "KY_CD": "343.0",
         "OFNS_DESC": "OTHER OFFENSES RELATED TO THEFT",
         "LAW_CODE": "PL 1651503",
         "LAW_CAT_CD": "M",
         "ARREST_BORO": "B",
         "ARREST_PRECINCT": "52",
         "JURISDICTION_CODE": "1.0",
         "AGE_GROUP": "25-44",
         "PERP_SEX": "F",
         "PERP_RACE": "WHITE HISPANIC",
         "X_COORD_CD": "1010831.0",
         "Y_COORD_CD": "252019.0",
         "Latitude": "40.858376975000056",
         "Longitude": "-73.90391003799994",
         "Lon_Lat": "POINT (-73.90391003799995 40.858376975000056)",
         "_deepnote_index_column": "4256039"
        },
        {
         "ARREST_KEY": "64941632",
         "ARREST_DATE": "08/20/2009",
         "PD_CD": "339.0",
         "PD_DESC": "LARCENY,PETIT FROM OPEN AREAS,UNCLASSIFIED",
         "KY_CD": "341.0",
         "OFNS_DESC": "PETIT LARCENY",
         "LAW_CODE": "PL 1552500",
         "LAW_CAT_CD": "M",
         "ARREST_BORO": "B",
         "ARREST_PRECINCT": "49",
         "JURISDICTION_CODE": "0.0",
         "AGE_GROUP": "25-44",
         "PERP_SEX": "M",
         "PERP_RACE": "BLACK",
         "X_COORD_CD": "1027202.0",
         "Y_COORD_CD": "247948.0",
         "Latitude": "40.84713883800004",
         "Longitude": "-73.84475437499998",
         "Lon_Lat": "POINT (-73.84475437499998 40.84713883800004)",
         "_deepnote_index_column": "3792406"
        }
       ]
      },
      "text/plain": "         ARREST_KEY ARREST_DATE  PD_CD  \\\n2808100    82608828  01/12/2012  916.0   \n1507483   143678156  06/13/2015  511.0   \n3487509    73088353  06/07/2010  922.0   \n1675288   140337927  12/28/2014  339.0   \n4256039    48221826  07/10/2008  478.0   \n3792406    64941632  08/20/2009  339.0   \n\n                                            PD_DESC  KY_CD  \\\n2808100              LEAVING SCENE-ACCIDENT-PERSONA  348.0   \n1507483          CONTROLLED SUBSTANCE, POSSESSION 7  235.0   \n3487509            TRAFFIC,UNCLASSIFIED MISDEMEANOR  348.0   \n1675288  LARCENY,PETIT FROM OPEN AREAS,UNCLASSIFIED  341.0   \n4256039             THEFT OF SERVICES, UNCLASSIFIED  343.0   \n3792406  LARCENY,PETIT FROM OPEN AREAS,UNCLASSIFIED  341.0   \n\n                               OFNS_DESC    LAW_CODE LAW_CAT_CD ARREST_BORO  \\\n2808100         VEHICLE AND TRAFFIC LAWS  VTL06000AA          M           Q   \n1507483                  DANGEROUS DRUGS  PL 2200300          M           K   \n3487509         VEHICLE AND TRAFFIC LAWS  VTL05110A4          M           Q   \n1675288                    PETIT LARCENY  PL 1552500          M           B   \n4256039  OTHER OFFENSES RELATED TO THEFT  PL 1651503          M           B   \n3792406                    PETIT LARCENY  PL 1552500          M           B   \n\n         ARREST_PRECINCT  JURISDICTION_CODE AGE_GROUP PERP_SEX  \\\n2808100              107                0.0     18-24        M   \n1507483               60                0.0     25-44        M   \n3487509              106                0.0     25-44        F   \n1675288               43                0.0       <18        M   \n4256039               52                1.0     25-44        F   \n3792406               49                0.0     25-44        M   \n\n              PERP_RACE  X_COORD_CD  Y_COORD_CD   Latitude  Longitude  \\\n2808100           BLACK   1036658.0    205330.0  40.730113 -73.810909   \n1507483           WHITE    995101.0    151225.0  40.581755 -73.960937   \n3487509           WHITE   1036056.0    182348.0  40.667037 -73.813258   \n1675288  WHITE HISPANIC   1022678.0    243888.0  40.836016 -73.861129   \n4256039  WHITE HISPANIC   1010831.0    252019.0  40.858377 -73.903910   \n3792406           BLACK   1027202.0    247948.0  40.847139 -73.844754   \n\n                                               Lon_Lat  \n2808100   POINT (-73.81090891499997 40.73011306700005)  \n1507483   POINT (-73.96093710499997 40.58175531400008)  \n3487509   POINT (-73.81325774699997 40.66703651500006)  \n1675288  POINT (-73.86112929999997 40.836016182000044)  \n4256039  POINT (-73.90391003799995 40.858376975000056)  \n3792406   POINT (-73.84475437499998 40.84713883800004)  ",
      "text/html": "<div>\n<style scoped>\n    .dataframe tbody tr th:only-of-type {\n        vertical-align: middle;\n    }\n\n    .dataframe tbody tr th {\n        vertical-align: top;\n    }\n\n    .dataframe thead th {\n        text-align: right;\n    }\n</style>\n<table border=\"1\" class=\"dataframe\">\n  <thead>\n    <tr style=\"text-align: right;\">\n      <th></th>\n      <th>ARREST_KEY</th>\n      <th>ARREST_DATE</th>\n      <th>PD_CD</th>\n      <th>PD_DESC</th>\n      <th>KY_CD</th>\n      <th>OFNS_DESC</th>\n      <th>LAW_CODE</th>\n      <th>LAW_CAT_CD</th>\n      <th>ARREST_BORO</th>\n      <th>ARREST_PRECINCT</th>\n      <th>JURISDICTION_CODE</th>\n      <th>AGE_GROUP</th>\n      <th>PERP_SEX</th>\n      <th>PERP_RACE</th>\n      <th>X_COORD_CD</th>\n      <th>Y_COORD_CD</th>\n      <th>Latitude</th>\n      <th>Longitude</th>\n      <th>Lon_Lat</th>\n    </tr>\n  </thead>\n  <tbody>\n    <tr>\n      <th>2808100</th>\n      <td>82608828</td>\n      <td>01/12/2012</td>\n      <td>916.0</td>\n      <td>LEAVING SCENE-ACCIDENT-PERSONA</td>\n      <td>348.0</td>\n      <td>VEHICLE AND TRAFFIC LAWS</td>\n      <td>VTL06000AA</td>\n      <td>M</td>\n      <td>Q</td>\n      <td>107</td>\n      <td>0.0</td>\n      <td>18-24</td>\n      <td>M</td>\n      <td>BLACK</td>\n      <td>1036658.0</td>\n      <td>205330.0</td>\n      <td>40.730113</td>\n      <td>-73.810909</td>\n      <td>POINT (-73.81090891499997 40.73011306700005)</td>\n    </tr>\n    <tr>\n      <th>1507483</th>\n      <td>143678156</td>\n      <td>06/13/2015</td>\n      <td>511.0</td>\n      <td>CONTROLLED SUBSTANCE, POSSESSION 7</td>\n      <td>235.0</td>\n      <td>DANGEROUS DRUGS</td>\n      <td>PL 2200300</td>\n      <td>M</td>\n      <td>K</td>\n      <td>60</td>\n      <td>0.0</td>\n      <td>25-44</td>\n      <td>M</td>\n      <td>WHITE</td>\n      <td>995101.0</td>\n      <td>151225.0</td>\n      <td>40.581755</td>\n      <td>-73.960937</td>\n      <td>POINT (-73.96093710499997 40.58175531400008)</td>\n    </tr>\n    <tr>\n      <th>3487509</th>\n      <td>73088353</td>\n      <td>06/07/2010</td>\n      <td>922.0</td>\n      <td>TRAFFIC,UNCLASSIFIED MISDEMEANOR</td>\n      <td>348.0</td>\n      <td>VEHICLE AND TRAFFIC LAWS</td>\n      <td>VTL05110A4</td>\n      <td>M</td>\n      <td>Q</td>\n      <td>106</td>\n      <td>0.0</td>\n      <td>25-44</td>\n      <td>F</td>\n      <td>WHITE</td>\n      <td>1036056.0</td>\n      <td>182348.0</td>\n      <td>40.667037</td>\n      <td>-73.813258</td>\n      <td>POINT (-73.81325774699997 40.66703651500006)</td>\n    </tr>\n    <tr>\n      <th>1675288</th>\n      <td>140337927</td>\n      <td>12/28/2014</td>\n      <td>339.0</td>\n      <td>LARCENY,PETIT FROM OPEN AREAS,UNCLASSIFIED</td>\n      <td>341.0</td>\n      <td>PETIT LARCENY</td>\n      <td>PL 1552500</td>\n      <td>M</td>\n      <td>B</td>\n      <td>43</td>\n      <td>0.0</td>\n      <td>&lt;18</td>\n      <td>M</td>\n      <td>WHITE HISPANIC</td>\n      <td>1022678.0</td>\n      <td>243888.0</td>\n      <td>40.836016</td>\n      <td>-73.861129</td>\n      <td>POINT (-73.86112929999997 40.836016182000044)</td>\n    </tr>\n    <tr>\n      <th>4256039</th>\n      <td>48221826</td>\n      <td>07/10/2008</td>\n      <td>478.0</td>\n      <td>THEFT OF SERVICES, UNCLASSIFIED</td>\n      <td>343.0</td>\n      <td>OTHER OFFENSES RELATED TO THEFT</td>\n      <td>PL 1651503</td>\n      <td>M</td>\n      <td>B</td>\n      <td>52</td>\n      <td>1.0</td>\n      <td>25-44</td>\n      <td>F</td>\n      <td>WHITE HISPANIC</td>\n      <td>1010831.0</td>\n      <td>252019.0</td>\n      <td>40.858377</td>\n      <td>-73.903910</td>\n      <td>POINT (-73.90391003799995 40.858376975000056)</td>\n    </tr>\n    <tr>\n      <th>3792406</th>\n      <td>64941632</td>\n      <td>08/20/2009</td>\n      <td>339.0</td>\n      <td>LARCENY,PETIT FROM OPEN AREAS,UNCLASSIFIED</td>\n      <td>341.0</td>\n      <td>PETIT LARCENY</td>\n      <td>PL 1552500</td>\n      <td>M</td>\n      <td>B</td>\n      <td>49</td>\n      <td>0.0</td>\n      <td>25-44</td>\n      <td>M</td>\n      <td>BLACK</td>\n      <td>1027202.0</td>\n      <td>247948.0</td>\n      <td>40.847139</td>\n      <td>-73.844754</td>\n      <td>POINT (-73.84475437499998 40.84713883800004)</td>\n    </tr>\n  </tbody>\n</table>\n</div>"
     },
     "metadata": {}
    }
   ]
  },
  {
   "cell_type": "code",
   "metadata": {
    "cell_id": "f5d325bfe83145a8b46c379b4e9a4f7a",
    "tags": [],
    "deepnote_to_be_reexecuted": false,
    "source_hash": "ea55ca52",
    "execution_start": 1664636693439,
    "execution_millis": 597,
    "deepnote_cell_type": "code",
    "deepnote_cell_height": 188.96875,
    "deepnote_output_heights": [
     96.96875
    ]
   },
   "source": "arrests.columns",
   "execution_count": null,
   "outputs": [
    {
     "output_type": "execute_result",
     "execution_count": 3,
     "data": {
      "text/plain": "Index(['ARREST_KEY', 'ARREST_DATE', 'PD_CD', 'PD_DESC', 'KY_CD', 'OFNS_DESC',\n       'LAW_CODE', 'LAW_CAT_CD', 'ARREST_BORO', 'ARREST_PRECINCT',\n       'JURISDICTION_CODE', 'AGE_GROUP', 'PERP_SEX', 'PERP_RACE', 'X_COORD_CD',\n       'Y_COORD_CD', 'Latitude', 'Longitude', 'Lon_Lat'],\n      dtype='object')"
     },
     "metadata": {}
    }
   ]
  },
  {
   "cell_type": "code",
   "metadata": {
    "cell_id": "4432073f5b0941a88ff74c3ad7809e64",
    "tags": [],
    "deepnote_to_be_reexecuted": false,
    "source_hash": "b623e53d",
    "execution_start": 1664636693487,
    "deepnote_cell_type": "code",
    "deepnote_cell_height": 76
   },
   "source": "",
   "execution_count": null,
   "outputs": []
  },
  {
   "cell_type": "markdown",
   "source": "<a style='text-decoration:none;line-height:16px;display:flex;color:#5B5B62;padding:10px;justify-content:end;' href='https://deepnote.com?utm_source=created-in-deepnote-cell&projectId=c27f5838-af21-4a34-9417-2e85ad5840a0' target=\"_blank\">\n<img alt='Created in deepnote.com' style='display:inline;max-height:16px;margin:0px;margin-right:7.5px;' src='data:image/svg+xml;base64,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' > </img>\nCreated in <span style='font-weight:600;margin-left:4px;'>Deepnote</span></a>",
   "metadata": {
    "tags": [],
    "created_in_deepnote_cell": true,
    "deepnote_cell_type": "markdown"
   }
  }
 ],
 "nbformat": 4,
 "nbformat_minor": 2,
 "metadata": {
  "orig_nbformat": 2,
  "deepnote": {},
  "deepnote_notebook_id": "399d822b-9320-44f7-bd19-54eb749da187",
  "deepnote_execution_queue": []
 }
}